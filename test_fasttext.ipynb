{
 "cells": [
  {
   "cell_type": "code",
   "execution_count": 4,
   "metadata": {},
   "outputs": [
    {
     "name": "stdout",
     "output_type": "stream",
     "text": [
      "Query word? گوشی 0.917592\n",
      "2017 0.825247\n",
      "20هوآوی 0.788929\n",
      "دو 0.780962\n",
      "2015 0.771605\n",
      "نوکیا 0.764755\n",
      "کارت 0.758091\n",
      "هوآوی 0.755184\n",
      "هوآنمین 0.745723\n",
      "2018 0.730366\n",
      "Query word? ماشینت 0.793497\n",
      "ماشینم 0.791423\n",
      "ماشیت 0.784829\n",
      "ماشینا 0.779647\n",
      "ماشینمه 0.768432\n",
      "ماشینه 0.760965\n",
      "ماشینمم 0.753525\n",
      "ماشی 0.745381\n",
      "ماشینن 0.722748\n",
      "وماشین 0.720337\n",
      "Query word? دزده 0.641621\n",
      "دزدیدنش 0.598298\n",
      "دزدان 0.582329\n",
      "دزدیدن 0.580617\n",
      "سپردم 0.575248\n",
      "مصادف 0.571764\n",
      "دزدید 0.566887\n",
      "فولکس 0.560254\n",
      "پنکش 0.55785\n",
      "دف 0.553118\n",
      "Query word? باهاشین 0.613854\n",
      "متقلب 0.6048\n",
      "تقلبش 0.573216\n",
      "جلسه 0.56568\n",
      "150تومنی 0.563213\n",
      "ازی 0.561872\n",
      "ضعفاش 0.541251\n",
      "اقلب 0.531839\n",
      "بزرگیم 0.520746\n",
      "150تومن 0.517871\n",
      "Query word? ارزون 0.743987\n",
      "تر 0.716574\n",
      "وگرون 0.710438\n",
      "ارزوتر 0.696546\n",
      "قیمت1 0.69443\n",
      "ارزونتر 0.689641\n",
      "گرونم 0.688804\n",
      "قیمت3 0.67426\n",
      "ارزونن 0.658171\n",
      "ارزوناست 0.657649\n",
      "Query word? "
     ]
    }
   ],
   "source": [
    "!./fasttext nn modelDigi.bin < query.txt"
   ]
  },
  {
   "cell_type": "code",
   "execution_count": null,
   "metadata": {},
   "outputs": [],
   "source": []
  }
 ],
 "metadata": {
  "kernelspec": {
   "display_name": "Python 3",
   "language": "python",
   "name": "python3"
  },
  "language_info": {
   "codemirror_mode": {
    "name": "ipython",
    "version": 3
   },
   "file_extension": ".py",
   "mimetype": "text/x-python",
   "name": "python",
   "nbconvert_exporter": "python",
   "pygments_lexer": "ipython3",
   "version": "3.6.5"
  }
 },
 "nbformat": 4,
 "nbformat_minor": 4
}
