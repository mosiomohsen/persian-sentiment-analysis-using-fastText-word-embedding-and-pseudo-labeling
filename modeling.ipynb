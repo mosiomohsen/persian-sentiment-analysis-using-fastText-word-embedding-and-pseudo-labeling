{
 "cells": [
  {
   "cell_type": "code",
   "execution_count": 15,
   "metadata": {},
   "outputs": [],
   "source": [
    "import re\n",
    "import gc\n",
    "import os\n",
    "import pickle\n",
    "import random\n",
    "from preprocess import preprocess\n",
    "import numpy as np\n",
    "import pandas as pd\n",
    "import matplotlib.pyplot as plt\n",
    "from sklearn.manifold import TSNE\n",
    "from sklearn.model_selection import KFold,StratifiedKFold, train_test_split\n",
    "import tensorflow as tf\n",
    "from sklearn.utils import shuffle\n",
    "from tensorflow.keras.optimizers import Adam\n",
    "from tensorflow.keras.preprocessing.text import Tokenizer\n",
    "from tensorflow.keras.models import Sequential\n",
    "from tensorflow.keras.utils import to_categorical\n",
    "from sklearn.metrics import roc_auc_score, f1_score, confusion_matrix, roc_curve\n",
    "from tensorflow.keras.callbacks import EarlyStopping\n",
    "from tensorflow.keras.preprocessing.sequence import pad_sequences\n",
    "from sklearn.metrics import accuracy_score,confusion_matrix, classification_report,f1_score\n",
    "from tensorflow.keras.layers import Dense,Dropout,Embedding,LSTM,Conv1D, GlobalMaxPooling1D,Flatten,MaxPooling1D,GRU,SpatialDropout1D,Bidirectional\n",
    "\n",
    "pd.set_option('display.max_columns',None)\n",
    "pd.set_option('display.max_rows',None)\n",
    "pd.set_option('display.max_colwidth',-1)"
   ]
  },
  {
   "cell_type": "code",
   "execution_count": 16,
   "metadata": {},
   "outputs": [],
   "source": [
    "df_ = pd.read_csv(r'DK.csv', encoding='utf-8')"
   ]
  },
  {
   "cell_type": "code",
   "execution_count": 17,
   "metadata": {},
   "outputs": [
    {
     "data": {
      "text/plain": [
       "0    2624635\n",
       "1    308112 \n",
       "Name: NegetiveFeedback, dtype: int64"
      ]
     },
     "execution_count": 17,
     "metadata": {},
     "output_type": "execute_result"
    }
   ],
   "source": [
    "df_['NegetiveFeedback'].value_counts()"
   ]
  },
  {
   "cell_type": "code",
   "execution_count": 18,
   "metadata": {},
   "outputs": [
    {
     "data": {
      "text/html": [
       "<div>\n",
       "<style scoped>\n",
       "    .dataframe tbody tr th:only-of-type {\n",
       "        vertical-align: middle;\n",
       "    }\n",
       "\n",
       "    .dataframe tbody tr th {\n",
       "        vertical-align: top;\n",
       "    }\n",
       "\n",
       "    .dataframe thead th {\n",
       "        text-align: right;\n",
       "    }\n",
       "</style>\n",
       "<table border=\"1\" class=\"dataframe\">\n",
       "  <thead>\n",
       "    <tr style=\"text-align: right;\">\n",
       "      <th></th>\n",
       "      <th>Unnamed: 0</th>\n",
       "      <th>BadComment</th>\n",
       "      <th>Comment</th>\n",
       "      <th>Date</th>\n",
       "      <th>GoodComment</th>\n",
       "      <th>ItemURL</th>\n",
       "      <th>NegetiveFeedback</th>\n",
       "      <th>Person</th>\n",
       "      <th>PositiveFeedback</th>\n",
       "      <th>SubCatName</th>\n",
       "      <th>SubName</th>\n",
       "      <th>Unnamed: 0.1</th>\n",
       "      <th>Unnamed: 0.1.1</th>\n",
       "      <th>len</th>\n",
       "    </tr>\n",
       "  </thead>\n",
       "  <tbody>\n",
       "    <tr>\n",
       "      <th>0</th>\n",
       "      <td>0</td>\n",
       "      <td>۰</td>\n",
       "      <td>&lt;p&gt;من کاملا با این محصول آشنا بودم و از خریدش مطمین بودم&lt;/p&gt;</td>\n",
       "      <td>\\r\\n                                در تاریخ ۲ مهر ۱۳۹۹\\r\\n</td>\n",
       "      <td>۰</td>\n",
       "      <td>/product/dkp-1878144/ساعت-هوشمند-سامسونگ-مدل-galaxy-watch-active2-44mm</td>\n",
       "      <td>0</td>\n",
       "      <td>\\r\\n                                سمانه خلج مهرآبادي\\r\\n</td>\n",
       "      <td>1</td>\n",
       "      <td>ساعت هوشمند</td>\n",
       "      <td>کالای دیجیتال</td>\n",
       "      <td>NaN</td>\n",
       "      <td>NaN</td>\n",
       "      <td>12</td>\n",
       "    </tr>\n",
       "    <tr>\n",
       "      <th>1</th>\n",
       "      <td>1</td>\n",
       "      <td>۲</td>\n",
       "      <td>&lt;p&gt;به درد خاصی نمیخوره صرفا یکی دو روز باهاش سرگرمین بعد به عنوان یه ساعت معمولی ازش استفاده میکنین&lt;/p&gt;</td>\n",
       "      <td>\\r\\n                                در تاریخ ۱ مهر ۱۳۹۹\\r\\n</td>\n",
       "      <td>۴</td>\n",
       "      <td>/product/dkp-1878144/ساعت-هوشمند-سامسونگ-مدل-galaxy-watch-active2-44mm</td>\n",
       "      <td>0</td>\n",
       "      <td>\\r\\n                                محجوبه زارعی\\r\\n</td>\n",
       "      <td>0</td>\n",
       "      <td>ساعت هوشمند</td>\n",
       "      <td>کالای دیجیتال</td>\n",
       "      <td>NaN</td>\n",
       "      <td>NaN</td>\n",
       "      <td>19</td>\n",
       "    </tr>\n",
       "    <tr>\n",
       "      <th>2</th>\n",
       "      <td>2</td>\n",
       "      <td>۰</td>\n",
       "      <td>&lt;p&gt;در یک کلام به نسبت هزینه ای که میکنید کالمل ترین ساعت بازار رو دریافت می‌کنید&lt;br/&gt;\\r\\r\\nدسترسی کامل به نوتیفیکشن ها و توانایی به پاسخ دادن به پیام ها از طریق خود ساعت&lt;br/&gt;\\r\\r\\nهمچنین برنامه کامل ورزشی تمام نیاز های شما رو برآورده میکنه&lt;/p&gt;</td>\n",
       "      <td>\\r\\n                                در تاریخ ۳۱ شهریور ۱۳۹۹\\r\\n</td>\n",
       "      <td>۰</td>\n",
       "      <td>/product/dkp-1878144/ساعت-هوشمند-سامسونگ-مدل-galaxy-watch-active2-44mm</td>\n",
       "      <td>0</td>\n",
       "      <td>\\r\\n                                محمد رضا میرشکار سیاهکل\\r\\n</td>\n",
       "      <td>0</td>\n",
       "      <td>ساعت هوشمند</td>\n",
       "      <td>کالای دیجیتال</td>\n",
       "      <td>NaN</td>\n",
       "      <td>NaN</td>\n",
       "      <td>44</td>\n",
       "    </tr>\n",
       "    <tr>\n",
       "      <th>3</th>\n",
       "      <td>3</td>\n",
       "      <td>۰</td>\n",
       "      <td>&lt;p&gt;ساعت بسیار عالی و کاربردی هست،میخواستم برای دوستم هم بگیرم ولی به دلیل تفاوت قیمت زیاد از دیجی کالا نمیخرم،&lt;/p&gt;</td>\n",
       "      <td>\\r\\n                                در تاریخ ۲۹ شهریور ۱۳۹۹\\r\\n</td>\n",
       "      <td>۰</td>\n",
       "      <td>/product/dkp-1878144/ساعت-هوشمند-سامسونگ-مدل-galaxy-watch-active2-44mm</td>\n",
       "      <td>0</td>\n",
       "      <td>\\r\\n                                کاربر دیجی‌کالا\\r\\n</td>\n",
       "      <td>0</td>\n",
       "      <td>ساعت هوشمند</td>\n",
       "      <td>کالای دیجیتال</td>\n",
       "      <td>NaN</td>\n",
       "      <td>NaN</td>\n",
       "      <td>20</td>\n",
       "    </tr>\n",
       "    <tr>\n",
       "      <th>4</th>\n",
       "      <td>4</td>\n",
       "      <td>۰</td>\n",
       "      <td>&lt;p&gt;دقیقا مطابق آنچه انتظار می رفت بود .&lt;br/&gt;\\r\\r\\nخوب و کاربردی و مطابق استایل روز .&lt;/p&gt;</td>\n",
       "      <td>\\r\\n                                در تاریخ ۲۹ شهریور ۱۳۹۹\\r\\n</td>\n",
       "      <td>۱</td>\n",
       "      <td>/product/dkp-1878144/ساعت-هوشمند-سامسونگ-مدل-galaxy-watch-active2-44mm</td>\n",
       "      <td>0</td>\n",
       "      <td>\\r\\n                                محمد میرفخرایی\\r\\n</td>\n",
       "      <td>1</td>\n",
       "      <td>ساعت هوشمند</td>\n",
       "      <td>کالای دیجیتال</td>\n",
       "      <td>NaN</td>\n",
       "      <td>NaN</td>\n",
       "      <td>16</td>\n",
       "    </tr>\n",
       "  </tbody>\n",
       "</table>\n",
       "</div>"
      ],
      "text/plain": [
       "   Unnamed: 0 BadComment  \\\n",
       "0  0           ۰           \n",
       "1  1           ۲           \n",
       "2  2           ۰           \n",
       "3  3           ۰           \n",
       "4  4           ۰           \n",
       "\n",
       "                                                                                                                                                                                                                                               Comment  \\\n",
       "0  <p>من کاملا با این محصول آشنا بودم و از خریدش مطمین بودم</p>                                                                                                                                                                                          \n",
       "1  <p>به درد خاصی نمیخوره صرفا یکی دو روز باهاش سرگرمین بعد به عنوان یه ساعت معمولی ازش استفاده میکنین</p>                                                                                                                                               \n",
       "2  <p>در یک کلام به نسبت هزینه ای که میکنید کالمل ترین ساعت بازار رو دریافت می‌کنید<br/>\\r\\r\\nدسترسی کامل به نوتیفیکشن ها و توانایی به پاسخ دادن به پیام ها از طریق خود ساعت<br/>\\r\\r\\nهمچنین برنامه کامل ورزشی تمام نیاز های شما رو برآورده میکنه</p>   \n",
       "3  <p>ساعت بسیار عالی و کاربردی هست،میخواستم برای دوستم هم بگیرم ولی به دلیل تفاوت قیمت زیاد از دیجی کالا نمیخرم،</p>                                                                                                                                    \n",
       "4  <p>دقیقا مطابق آنچه انتظار می رفت بود .<br/>\\r\\r\\nخوب و کاربردی و مطابق استایل روز .</p>                                                                                                                                                              \n",
       "\n",
       "                                                                                          Date  \\\n",
       "0  \\r\\n                                در تاریخ ۲ مهر ۱۳۹۹\\r\\n                                   \n",
       "1  \\r\\n                                در تاریخ ۱ مهر ۱۳۹۹\\r\\n                                   \n",
       "2  \\r\\n                                در تاریخ ۳۱ شهریور ۱۳۹۹\\r\\n                               \n",
       "3  \\r\\n                                در تاریخ ۲۹ شهریور ۱۳۹۹\\r\\n                               \n",
       "4  \\r\\n                                در تاریخ ۲۹ شهریور ۱۳۹۹\\r\\n                               \n",
       "\n",
       "  GoodComment  \\\n",
       "0  ۰            \n",
       "1  ۴            \n",
       "2  ۰            \n",
       "3  ۰            \n",
       "4  ۱            \n",
       "\n",
       "                                                                  ItemURL  \\\n",
       "0  /product/dkp-1878144/ساعت-هوشمند-سامسونگ-مدل-galaxy-watch-active2-44mm   \n",
       "1  /product/dkp-1878144/ساعت-هوشمند-سامسونگ-مدل-galaxy-watch-active2-44mm   \n",
       "2  /product/dkp-1878144/ساعت-هوشمند-سامسونگ-مدل-galaxy-watch-active2-44mm   \n",
       "3  /product/dkp-1878144/ساعت-هوشمند-سامسونگ-مدل-galaxy-watch-active2-44mm   \n",
       "4  /product/dkp-1878144/ساعت-هوشمند-سامسونگ-مدل-galaxy-watch-active2-44mm   \n",
       "\n",
       "   NegetiveFeedback  \\\n",
       "0  0                  \n",
       "1  0                  \n",
       "2  0                  \n",
       "3  0                  \n",
       "4  0                  \n",
       "\n",
       "                                                                                        Person  \\\n",
       "0  \\r\\n                                سمانه خلج مهرآبادي\\r\\n                                    \n",
       "1  \\r\\n                                محجوبه زارعی\\r\\n                                          \n",
       "2  \\r\\n                                محمد رضا میرشکار سیاهکل\\r\\n                               \n",
       "3  \\r\\n                                کاربر دیجی‌کالا\\r\\n                                       \n",
       "4  \\r\\n                                محمد میرفخرایی\\r\\n                                        \n",
       "\n",
       "   PositiveFeedback   SubCatName        SubName  Unnamed: 0.1  Unnamed: 0.1.1  \\\n",
       "0  1                 ساعت هوشمند  کالای دیجیتال NaN           NaN               \n",
       "1  0                 ساعت هوشمند  کالای دیجیتال NaN           NaN               \n",
       "2  0                 ساعت هوشمند  کالای دیجیتال NaN           NaN               \n",
       "3  0                 ساعت هوشمند  کالای دیجیتال NaN           NaN               \n",
       "4  1                 ساعت هوشمند  کالای دیجیتال NaN           NaN               \n",
       "\n",
       "   len  \n",
       "0  12   \n",
       "1  19   \n",
       "2  44   \n",
       "3  20   \n",
       "4  16   "
      ]
     },
     "execution_count": 18,
     "metadata": {},
     "output_type": "execute_result"
    }
   ],
   "source": [
    "df_['len'] = df_['Comment'].astype(str).apply(lambda x: len(x.split()))\n",
    "df_.head()"
   ]
  },
  {
   "cell_type": "code",
   "execution_count": 19,
   "metadata": {},
   "outputs": [
    {
     "name": "stdout",
     "output_type": "stream",
     "text": [
      "2932747\n",
      "2057167\n"
     ]
    }
   ],
   "source": [
    "print(len(df_))\n",
    "df = df_[(df_['PositiveFeedback']==1)|(df_['NegetiveFeedback']==1)]\n",
    "print(len(df))"
   ]
  },
  {
   "cell_type": "code",
   "execution_count": 20,
   "metadata": {},
   "outputs": [],
   "source": [
    "df = df.sample(frac=1.0)"
   ]
  },
  {
   "cell_type": "code",
   "execution_count": 21,
   "metadata": {},
   "outputs": [
    {
     "data": {
      "text/html": [
       "<div>\n",
       "<style scoped>\n",
       "    .dataframe tbody tr th:only-of-type {\n",
       "        vertical-align: middle;\n",
       "    }\n",
       "\n",
       "    .dataframe tbody tr th {\n",
       "        vertical-align: top;\n",
       "    }\n",
       "\n",
       "    .dataframe thead th {\n",
       "        text-align: right;\n",
       "    }\n",
       "</style>\n",
       "<table border=\"1\" class=\"dataframe\">\n",
       "  <thead>\n",
       "    <tr style=\"text-align: right;\">\n",
       "      <th></th>\n",
       "      <th>Unnamed: 0</th>\n",
       "      <th>BadComment</th>\n",
       "      <th>Comment</th>\n",
       "      <th>Date</th>\n",
       "      <th>GoodComment</th>\n",
       "      <th>ItemURL</th>\n",
       "      <th>NegetiveFeedback</th>\n",
       "      <th>Person</th>\n",
       "      <th>PositiveFeedback</th>\n",
       "      <th>SubCatName</th>\n",
       "      <th>SubName</th>\n",
       "      <th>Unnamed: 0.1</th>\n",
       "      <th>Unnamed: 0.1.1</th>\n",
       "      <th>len</th>\n",
       "      <th>Label</th>\n",
       "    </tr>\n",
       "  </thead>\n",
       "  <tbody>\n",
       "    <tr>\n",
       "      <th>695387</th>\n",
       "      <td>679665</td>\n",
       "      <td>۰</td>\n",
       "      <td>&lt;p&gt;تو تخفیف بخرید راضی کننده است&lt;/p&gt;</td>\n",
       "      <td>\\r\\r\\n                                در تاریخ ۱۱ شهریور ۱۳۹۸\\r\\r\\n</td>\n",
       "      <td>۲</td>\n",
       "      <td>/product/dkp-619604/کارت-شبکه-usb-بی-سیم-مدل-300mbps-آنتن-کوتاه</td>\n",
       "      <td>0</td>\n",
       "      <td>\\r\\r\\n                                حسین ر\\r\\r\\n</td>\n",
       "      <td>1</td>\n",
       "      <td>تجهیزات شبکه و ارتباطات</td>\n",
       "      <td>کالای دیجیتال</td>\n",
       "      <td>7710.0</td>\n",
       "      <td>NaN</td>\n",
       "      <td>6</td>\n",
       "      <td>0</td>\n",
       "    </tr>\n",
       "    <tr>\n",
       "      <th>1797123</th>\n",
       "      <td>800206</td>\n",
       "      <td>۸</td>\n",
       "      <td>&lt;p&gt;ساعت زبان فارسی دارد&lt;br/&gt;\\r\\r\\nتاج بسیار قوی&lt;br/&gt;\\r\\r\\nنسبت به قیمت عالیه&lt;/p&gt;</td>\n",
       "      <td>\\r\\n                                در تاریخ ۱ آذر ۱۳۹۸\\r\\n</td>\n",
       "      <td>۹</td>\n",
       "      <td>/product/dkp-877254/ساعت-هوشمند-مدل-a1-به-همراه-هندزفری-بی-سیم-i7s-tws</td>\n",
       "      <td>0</td>\n",
       "      <td>\\r\\n                                مسعود غفوری\\r\\n</td>\n",
       "      <td>1</td>\n",
       "      <td>ساعت هوشمند</td>\n",
       "      <td>کالای دیجیتال</td>\n",
       "      <td>2448.0</td>\n",
       "      <td>2448.0</td>\n",
       "      <td>11</td>\n",
       "      <td>0</td>\n",
       "    </tr>\n",
       "    <tr>\n",
       "      <th>2250073</th>\n",
       "      <td>1253156</td>\n",
       "      <td>۰</td>\n",
       "      <td>&lt;p&gt;ساعت خیلی خوبیه همه چیزش عالی کار میکنه اگر باتریش کمی قوی بود عالی تر میشد&lt;/p&gt;</td>\n",
       "      <td>\\r\\n                                در تاریخ ۲۸ دی ۱۳۹۸\\r\\n</td>\n",
       "      <td>۰</td>\n",
       "      <td>/product/dkp-427426/ساعت-هوشمند-میدسان-مدل-a1</td>\n",
       "      <td>0</td>\n",
       "      <td>\\r\\n                                amin rayati\\r\\n</td>\n",
       "      <td>1</td>\n",
       "      <td>ساعت هوشمند</td>\n",
       "      <td>کالای دیجیتال</td>\n",
       "      <td>6907.0</td>\n",
       "      <td>6907.0</td>\n",
       "      <td>16</td>\n",
       "      <td>0</td>\n",
       "    </tr>\n",
       "    <tr>\n",
       "      <th>1249076</th>\n",
       "      <td>252159</td>\n",
       "      <td>۰</td>\n",
       "      <td>&lt;p&gt;خوبه ساعته بدی نیست بیشتر به درد ورزشکارا میخوره ولی انگار مشکی نیس!!بندش و دورش سورمه ایه!!درصورتی ک مشکی سفارش دادم ولی د  کل راضیم از همه چیش کیفیتش عالی همه چیش عالی&lt;/p&gt;</td>\n",
       "      <td>\\r\\n                                در تاریخ ۲۷ فروردین ۱۳۹۹\\r\\n</td>\n",
       "      <td>۱</td>\n",
       "      <td>/product/dkp-2005406/ساعت-هوشمند-سامسونگ-مدل-galaxy-watch-active2-40mm</td>\n",
       "      <td>0</td>\n",
       "      <td>\\r\\n                                رعنا سامانی\\r\\n</td>\n",
       "      <td>1</td>\n",
       "      <td>ساعت هوشمند</td>\n",
       "      <td>کالای دیجیتال</td>\n",
       "      <td>2159.0</td>\n",
       "      <td>2159.0</td>\n",
       "      <td>33</td>\n",
       "      <td>0</td>\n",
       "    </tr>\n",
       "    <tr>\n",
       "      <th>2712725</th>\n",
       "      <td>1715808</td>\n",
       "      <td>۰</td>\n",
       "      <td>&lt;p&gt;کیبرد ش زبان فارسی نداره ولی در کل زبان فارسی دارد&lt;/p&gt;</td>\n",
       "      <td>\\r\\n                                در تاریخ ۲۹ اردیبهشت ۱۳۹۹\\r\\n</td>\n",
       "      <td>۲</td>\n",
       "      <td>/product/dkp-390726/ساعت-هوشمند-وی-سریز-مدل-a1</td>\n",
       "      <td>0</td>\n",
       "      <td>\\r\\n                                نوراله بردبار\\r\\n</td>\n",
       "      <td>1</td>\n",
       "      <td>ساعت هوشمند</td>\n",
       "      <td>کالای دیجیتال</td>\n",
       "      <td>6434.0</td>\n",
       "      <td>6434.0</td>\n",
       "      <td>11</td>\n",
       "      <td>0</td>\n",
       "    </tr>\n",
       "  </tbody>\n",
       "</table>\n",
       "</div>"
      ],
      "text/plain": [
       "         Unnamed: 0 BadComment  \\\n",
       "695387   679665      ۰           \n",
       "1797123  800206      ۸           \n",
       "2250073  1253156     ۰           \n",
       "1249076  252159      ۰           \n",
       "2712725  1715808     ۰           \n",
       "\n",
       "                                                                                                                                                                                  Comment  \\\n",
       "695387   <p>تو تخفیف بخرید راضی کننده است</p>                                                                                                                                               \n",
       "1797123  <p>ساعت زبان فارسی دارد<br/>\\r\\r\\nتاج بسیار قوی<br/>\\r\\r\\nنسبت به قیمت عالیه</p>                                                                                                   \n",
       "2250073  <p>ساعت خیلی خوبیه همه چیزش عالی کار میکنه اگر باتریش کمی قوی بود عالی تر میشد</p>                                                                                                 \n",
       "1249076  <p>خوبه ساعته بدی نیست بیشتر به درد ورزشکارا میخوره ولی انگار مشکی نیس!!بندش و دورش سورمه ایه!!درصورتی ک مشکی سفارش دادم ولی د  کل راضیم از همه چیش کیفیتش عالی همه چیش عالی</p>   \n",
       "2712725  <p>کیبرد ش زبان فارسی نداره ولی در کل زبان فارسی دارد</p>                                                                                                                          \n",
       "\n",
       "                                                                                                    Date  \\\n",
       "695387   \\r\\r\\n                                در تاریخ ۱۱ شهریور ۱۳۹۸\\r\\r\\n                               \n",
       "1797123  \\r\\n                                در تاریخ ۱ آذر ۱۳۹۸\\r\\n                                       \n",
       "2250073  \\r\\n                                در تاریخ ۲۸ دی ۱۳۹۸\\r\\n                                       \n",
       "1249076  \\r\\n                                در تاریخ ۲۷ فروردین ۱۳۹۹\\r\\n                                  \n",
       "2712725  \\r\\n                                در تاریخ ۲۹ اردیبهشت ۱۳۹۹\\r\\n                                 \n",
       "\n",
       "        GoodComment  \\\n",
       "695387   ۲            \n",
       "1797123  ۹            \n",
       "2250073  ۰            \n",
       "1249076  ۱            \n",
       "2712725  ۲            \n",
       "\n",
       "                                                                        ItemURL  \\\n",
       "695387   /product/dkp-619604/کارت-شبکه-usb-بی-سیم-مدل-300mbps-آنتن-کوتاه          \n",
       "1797123  /product/dkp-877254/ساعت-هوشمند-مدل-a1-به-همراه-هندزفری-بی-سیم-i7s-tws   \n",
       "2250073  /product/dkp-427426/ساعت-هوشمند-میدسان-مدل-a1                            \n",
       "1249076  /product/dkp-2005406/ساعت-هوشمند-سامسونگ-مدل-galaxy-watch-active2-40mm   \n",
       "2712725  /product/dkp-390726/ساعت-هوشمند-وی-سریز-مدل-a1                           \n",
       "\n",
       "         NegetiveFeedback  \\\n",
       "695387   0                  \n",
       "1797123  0                  \n",
       "2250073  0                  \n",
       "1249076  0                  \n",
       "2712725  0                  \n",
       "\n",
       "                                                                                    Person  \\\n",
       "695387   \\r\\r\\n                                حسین ر\\r\\r\\n                                  \n",
       "1797123  \\r\\n                                مسعود غفوری\\r\\n                                 \n",
       "2250073  \\r\\n                                amin rayati\\r\\n                                 \n",
       "1249076  \\r\\n                                رعنا سامانی\\r\\n                                 \n",
       "2712725  \\r\\n                                نوراله بردبار\\r\\n                               \n",
       "\n",
       "         PositiveFeedback               SubCatName        SubName  \\\n",
       "695387   1                 تجهیزات شبکه و ارتباطات  کالای دیجیتال   \n",
       "1797123  1                 ساعت هوشمند              کالای دیجیتال   \n",
       "2250073  1                 ساعت هوشمند              کالای دیجیتال   \n",
       "1249076  1                 ساعت هوشمند              کالای دیجیتال   \n",
       "2712725  1                 ساعت هوشمند              کالای دیجیتال   \n",
       "\n",
       "         Unnamed: 0.1  Unnamed: 0.1.1  len  Label  \n",
       "695387   7710.0       NaN              6    0      \n",
       "1797123  2448.0        2448.0          11   0      \n",
       "2250073  6907.0        6907.0          16   0      \n",
       "1249076  2159.0        2159.0          33   0      \n",
       "2712725  6434.0        6434.0          11   0      "
      ]
     },
     "execution_count": 21,
     "metadata": {},
     "output_type": "execute_result"
    }
   ],
   "source": [
    "df['Label'] = 0\n",
    "df.loc[df['NegetiveFeedback']==1,'Label'] = 1\n",
    "df.head()"
   ]
  },
  {
   "cell_type": "code",
   "execution_count": 22,
   "metadata": {},
   "outputs": [
    {
     "data": {
      "text/plain": [
       "0    1749055\n",
       "1    308112 \n",
       "Name: Label, dtype: int64"
      ]
     },
     "execution_count": 22,
     "metadata": {},
     "output_type": "execute_result"
    }
   ],
   "source": [
    "df['Label'].value_counts()"
   ]
  },
  {
   "cell_type": "code",
   "execution_count": 24,
   "metadata": {},
   "outputs": [],
   "source": [
    "prep = preprocess()\n",
    "df['Comment'] = df['Comment'].apply(lambda x: prep.clean(x))"
   ]
  },
  {
   "cell_type": "code",
   "execution_count": 25,
   "metadata": {},
   "outputs": [],
   "source": [
    "X = df['Comment'].values\n",
    "Y = df['Label'].values"
   ]
  },
  {
   "cell_type": "code",
   "execution_count": 52,
   "metadata": {},
   "outputs": [],
   "source": [
    "embed_num_dims = 100\n",
    "max_seq_len = 400\n",
    "EMB_SIZE = 100\n",
    "MAX_LEN = 1000\n",
    "seed = 2020\n",
    "random.seed(seed)\n",
    "\n",
    "skf = StratifiedKFold(n_splits=5)\n",
    "batch_size = 2048\n",
    "epoches = 7"
   ]
  },
  {
   "cell_type": "code",
   "execution_count": 27,
   "metadata": {},
   "outputs": [],
   "source": [
    "tokenizer = Tokenizer(num_words=2000000,filters='!\"#$%&()*+,-./;<=>?@][\\\\]^{|}~\\t\\n')\n",
    "tokenizer.fit_on_texts(X)\n",
    "index_of_words = tokenizer.word_index"
   ]
  },
  {
   "cell_type": "code",
   "execution_count": 28,
   "metadata": {},
   "outputs": [],
   "source": [
    "def get_coefs(word,*arr):\n",
    "    return word,np.asarray(arr,dtype='float32')\n",
    "def build_embed_matrix(embed_path,word_index):\n",
    "    EMB_SIZE =100\n",
    "    embed_index = dict(get_coefs(*o.strip().split(\" \")) for o in open(embed_path, encoding='utf-8'))\n",
    "    embed_matrix = np.zeros((len(word_index)+1,EMB_SIZE))\n",
    "    \n",
    "    for word , i in word_index.items():\n",
    "        embed_vector = embed_index.get(word)\n",
    "        if embed_vector is not None:\n",
    "            embed_matrix[i]=embed_vector\n",
    "    del embed_index\n",
    "    gc.collect()\n",
    "    return embed_matrix"
   ]
  },
  {
   "cell_type": "code",
   "execution_count": 29,
   "metadata": {},
   "outputs": [],
   "source": [
    "embed_path = 'NewDigi.vec'\n",
    "embed_matrix_fasts = build_embed_matrix(embed_path,index_of_words)"
   ]
  },
  {
   "cell_type": "code",
   "execution_count": 53,
   "metadata": {},
   "outputs": [],
   "source": [
    "def Evaluation(Ytest, pred_class, pred_proba, fold):\n",
    "    \n",
    "    auc = roc_auc_score(Ytest,pred_proba)\n",
    "    fpr, tpr, threshold = roc_curve(Ytest, pred_proba)\n",
    "    \n",
    "    plt.title('Receiver Operating Characteristic')\n",
    "    plt.plot(fpr, tpr, 'b', label='AUC = %0.2f' % auc)\n",
    "    plt.ylabel('True Positive Rate')\n",
    "    plt.xlabel('False Positive Rate')\n",
    "    plt.savefig('auc'+str(fold)+'.png')\n",
    "    plt.show()\n",
    "    print('AUC:', auc)\n",
    "    print('f1_score:', f1_score(Ytest,pred_class))\n",
    "    print('Confusion Matrix:\\n', confusion_matrix(Ytest,pred_class))"
   ]
  },
  {
   "cell_type": "code",
   "execution_count": 54,
   "metadata": {},
   "outputs": [],
   "source": [
    "def create_model():\n",
    "    model = Sequential()\n",
    "    model.add(Embedding(len(index_of_words)+1, 100, input_length=max_seq_len, weights=[embed_matrix_fasts]))\n",
    "    model.add(Dropout(0.5))\n",
    "    model.add(Conv1D(128,kernel_size=3,padding='same',activation='relu',strides=1))\n",
    "    model.add(GlobalMaxPooling1D())\n",
    "    model.add(Dense(64,activation='relu'))\n",
    "    model.add(Dropout(0.5))\n",
    "    model.add(Dense(16,activation='relu'))\n",
    "    model.add(Dropout(0.5))\n",
    "    model.add(Dense(1,activation='sigmoid'))\n",
    "    model.compile(loss='binary_crossentropy',optimizer='adam',metrics=['accuracy'])\n",
    "    return model"
   ]
  },
  {
   "cell_type": "code",
   "execution_count": 34,
   "metadata": {},
   "outputs": [
    {
     "name": "stdout",
     "output_type": "stream",
     "text": [
      "#Fold: 1\n",
      "Oversampling ...\n",
      "Pad Sequencing ...\n",
      "Modeling ...\n",
      "Epoch 1/7\n",
      "578/578 [==============================] - 157s 272ms/step - loss: 0.2459 - accuracy: 0.9049 - val_loss: 0.1103 - val_accuracy: 0.9620\n",
      "Epoch 2/7\n",
      "578/578 [==============================] - 157s 272ms/step - loss: 0.1551 - accuracy: 0.9456 - val_loss: 0.0841 - val_accuracy: 0.9725\n",
      "Epoch 3/7\n",
      "578/578 [==============================] - 157s 272ms/step - loss: 0.1319 - accuracy: 0.9565 - val_loss: 0.0777 - val_accuracy: 0.9740\n",
      "Epoch 4/7\n",
      "578/578 [==============================] - 157s 272ms/step - loss: 0.1185 - accuracy: 0.9613 - val_loss: 0.0752 - val_accuracy: 0.9744\n",
      "Epoch 5/7\n",
      "578/578 [==============================] - 157s 272ms/step - loss: 0.1101 - accuracy: 0.9644 - val_loss: 0.0698 - val_accuracy: 0.9758\n",
      "Epoch 6/7\n",
      "578/578 [==============================] - 157s 272ms/step - loss: 0.1034 - accuracy: 0.9664 - val_loss: 0.0671 - val_accuracy: 0.9769\n",
      "Epoch 7/7\n",
      "578/578 [==============================] - 157s 272ms/step - loss: 0.0984 - accuracy: 0.9684 - val_loss: 0.0668 - val_accuracy: 0.9771\n",
      "Evaluating ...\n",
      "WARNING:tensorflow:From <ipython-input-34-4162ca542d11>:24: Sequential.predict_classes (from tensorflow.python.keras.engine.sequential) is deprecated and will be removed after 2021-01-01.\n",
      "Instructions for updating:\n",
      "Please use instead:* `np.argmax(model.predict(x), axis=-1)`,   if your model does multi-class classification   (e.g. if it uses a `softmax` last-layer activation).* `(model.predict(x) > 0.5).astype(\"int32\")`,   if your model does binary classification   (e.g. if it uses a `sigmoid` last-layer activation).\n"
     ]
    },
    {
     "data": {
      "image/png": "[encoded data removed]",
      "text/plain": [
       "<Figure size 432x288 with 1 Axes>"
      ]
     },
     "metadata": {},
     "output_type": "display_data"
    },
    {
     "name": "stdout",
     "output_type": "stream",
     "text": [
      "AUC: 0.9936204078485766\n",
      "f1_score: 0.9240126484254001\n",
      "Confusion Matrix:\n",
      " [[861849  12679]\n",
      " [ 10871 143185]]\n",
      "#Fold: 2\n",
      "Oversampling ...\n",
      "Pad Sequencing ...\n",
      "Modeling ...\n",
      "Epoch 1/7\n",
      "578/578 [==============================] - 158s 273ms/step - loss: 0.2496 - accuracy: 0.9023 - val_loss: 0.1126 - val_accuracy: 0.9614\n",
      "Epoch 2/7\n",
      "578/578 [==============================] - 157s 272ms/step - loss: 0.1584 - accuracy: 0.9442 - val_loss: 0.0876 - val_accuracy: 0.9716\n",
      "Epoch 3/7\n",
      "578/578 [==============================] - 157s 272ms/step - loss: 0.1341 - accuracy: 0.9535 - val_loss: 0.0748 - val_accuracy: 0.9749\n",
      "Epoch 4/7\n",
      "578/578 [==============================] - 157s 272ms/step - loss: 0.1203 - accuracy: 0.9584 - val_loss: 0.0707 - val_accuracy: 0.9758\n",
      "Epoch 5/7\n",
      "578/578 [==============================] - 157s 272ms/step - loss: 0.1112 - accuracy: 0.9640 - val_loss: 0.0720 - val_accuracy: 0.9741\n",
      "Epoch 6/7\n",
      "578/578 [==============================] - 158s 273ms/step - loss: 0.1047 - accuracy: 0.9663 - val_loss: 0.0651 - val_accuracy: 0.9774\n",
      "Epoch 7/7\n",
      "578/578 [==============================] - 158s 273ms/step - loss: 0.1001 - accuracy: 0.9679 - val_loss: 0.0667 - val_accuracy: 0.9761\n",
      "Evaluating ...\n"
     ]
    },
    {
     "data": {
      "image/png": "[encoded data removed]",
      "text/plain": [
       "<Figure size 432x288 with 1 Axes>"
      ]
     },
     "metadata": {},
     "output_type": "display_data"
    },
    {
     "name": "stdout",
     "output_type": "stream",
     "text": [
      "AUC: 0.9938488879647955\n",
      "f1_score: 0.9217086611665022\n",
      "Confusion Matrix:\n",
      " [[859329  15198]\n",
      " [  9380 144676]]\n"
     ]
    }
   ],
   "source": [
    "for fold, (train_index, test_index) in enumerate(skf.split(X,Y)):\n",
    "    \n",
    "    print('#Fold:', fold+1)\n",
    "    \n",
    "    Xtrain, Xtest = X[train_index], X[test_index]\n",
    "    Ytrain, Ytest = Y[train_index], Y[test_index]\n",
    "    \n",
    "    print('Oversampling ...')\n",
    "    Xtrain = np.append(Xtrain, Xtrain[Ytrain==1])\n",
    "    Ytrain = np.append(Ytrain, Ytrain[Ytrain==1])\n",
    "    \n",
    "    print('Pad Sequencing ...')\n",
    "    sequence_train = tokenizer.texts_to_sequences(Xtrain)\n",
    "    sequence_test = tokenizer.texts_to_sequences(Xtest)\n",
    "    padata_train = pad_sequences(sequence_train,maxlen=max_seq_len, padding='post')\n",
    "    padata_test = pad_sequences(sequence_test,maxlen=max_seq_len, padding='post')\n",
    "    \n",
    "    print('Modeling ...')\n",
    "    model = create_model()\n",
    "    history= model.fit(padata_train, Ytrain, validation_data=(padata_test,Ytest),epochs=epoches, batch_size=batch_size,\n",
    "                       verbose=1, shuffle=True)\n",
    "    \n",
    "    print('Evaluating ...')\n",
    "    pred_class = model.predict_classes(padata_test)\n",
    "    pred_proba = model.predict(padata_test)\n",
    "    Evaluation(Ytest, pred_class, pred_proba, fold)"
   ]
  },
  {
   "cell_type": "code",
   "execution_count": null,
   "metadata": {},
   "outputs": [],
   "source": []
  },
  {
   "cell_type": "markdown",
   "metadata": {},
   "source": [
    "# Pseudo Labeling ..."
   ]
  },
  {
   "cell_type": "code",
   "execution_count": 35,
   "metadata": {},
   "outputs": [
    {
     "data": {
      "text/plain": [
       "875580"
      ]
     },
     "execution_count": 35,
     "metadata": {},
     "output_type": "execute_result"
    }
   ],
   "source": [
    "df_psudo = df_[(df_['PositiveFeedback']==0)&(df_['NegetiveFeedback']==0)] # unlabeled data\n",
    "len(df_psudo)"
   ]
  },
  {
   "cell_type": "code",
   "execution_count": 36,
   "metadata": {},
   "outputs": [
    {
     "name": "stderr",
     "output_type": "stream",
     "text": [
      "C:\\ProgramData\\Anaconda3\\lib\\site-packages\\ipykernel_launcher.py:1: SettingWithCopyWarning: \n",
      "A value is trying to be set on a copy of a slice from a DataFrame.\n",
      "Try using .loc[row_indexer,col_indexer] = value instead\n",
      "\n",
      "See the caveats in the documentation: http://pandas.pydata.org/pandas-docs/stable/indexing.html#indexing-view-versus-copy\n",
      "  \"\"\"Entry point for launching an IPython kernel.\n"
     ]
    }
   ],
   "source": [
    "df_psudo['Comment'] = df_psudo['Comment'].apply(lambda x: prep.clean(x))\n",
    "X_psudo = df_psudo['Comment'].values"
   ]
  },
  {
   "cell_type": "code",
   "execution_count": 37,
   "metadata": {},
   "outputs": [],
   "source": [
    "sequence_psudo = tokenizer.texts_to_sequences(X_psudo)\n",
    "padata_psudo = pad_sequences(sequence_psudo,maxlen=max_seq_len, padding='post')"
   ]
  },
  {
   "cell_type": "code",
   "execution_count": 38,
   "metadata": {},
   "outputs": [],
   "source": [
    "pred_proba = model.predict(padata_psudo)"
   ]
  },
  {
   "cell_type": "code",
   "execution_count": 39,
   "metadata": {},
   "outputs": [
    {
     "data": {
      "text/plain": [
       "array([[9.9958760e-01],\n",
       "       [9.0225785e-07],\n",
       "       [1.3243133e-03],\n",
       "       ...,\n",
       "       [5.0279084e-03],\n",
       "       [9.5633030e-01],\n",
       "       [8.8879623e-02]], dtype=float32)"
      ]
     },
     "execution_count": 39,
     "metadata": {},
     "output_type": "execute_result"
    }
   ],
   "source": [
    "pred_proba"
   ]
  },
  {
   "cell_type": "code",
   "execution_count": 42,
   "metadata": {},
   "outputs": [],
   "source": [
    "dd = pd.DataFrame({'text':X_psudo, 'proba':pred_proba[:,0]})\n",
    "dd = dd[(dd['proba']<0.0000001)|(dd['proba']>0.9)]\n",
    "dd['label'] = 0\n",
    "dd.loc[dd['proba']>0.5,'label'] = 1"
   ]
  },
  {
   "cell_type": "code",
   "execution_count": 43,
   "metadata": {},
   "outputs": [
    {
     "data": {
      "text/plain": [
       "1    104800\n",
       "0    30597 \n",
       "Name: label, dtype: int64"
      ]
     },
     "execution_count": 43,
     "metadata": {},
     "output_type": "execute_result"
    }
   ],
   "source": [
    "dd.label.value_counts()"
   ]
  },
  {
   "cell_type": "code",
   "execution_count": 46,
   "metadata": {},
   "outputs": [
    {
     "data": {
      "text/html": [
       "<div>\n",
       "<style scoped>\n",
       "    .dataframe tbody tr th:only-of-type {\n",
       "        vertical-align: middle;\n",
       "    }\n",
       "\n",
       "    .dataframe tbody tr th {\n",
       "        vertical-align: top;\n",
       "    }\n",
       "\n",
       "    .dataframe thead th {\n",
       "        text-align: right;\n",
       "    }\n",
       "</style>\n",
       "<table border=\"1\" class=\"dataframe\">\n",
       "  <thead>\n",
       "    <tr style=\"text-align: right;\">\n",
       "      <th></th>\n",
       "      <th>text</th>\n",
       "      <th>label</th>\n",
       "    </tr>\n",
       "  </thead>\n",
       "  <tbody>\n",
       "    <tr>\n",
       "      <th>2057128</th>\n",
       "      <td>من بخاطر اوضاع کرونا و سنسور اکسیژن این ساعت رو خریداری کردم مگرنه چیز خاصی نداره . ظاهرش هم قشنگه . ولی خیلی معمولیه</td>\n",
       "      <td>1</td>\n",
       "    </tr>\n",
       "    <tr>\n",
       "      <th>2057129</th>\n",
       "      <td>اگر یه سیم کارت دارید که می خوایید استفاده کنید چیز خوبیه ولی اگر می خوایید از حسگراش استفاه کنید نخرید چون اصلا حسگر نداره  من خیلی جست و جو کردم اینو خریدم اخر هم چیزی که می خواستم نشد گفتم توضیحات رو بدم بقیه گول نخورن</td>\n",
       "      <td>1</td>\n",
       "    </tr>\n",
       "    <tr>\n",
       "      <th>2057134</th>\n",
       "      <td>واقعن عالیه ولی با قیمت کمتر میشه تسکو گرفت اینو برا خودم نگرفتم منتظرم شگفت انگیز بخورن تسکو بگیرم متاسفانه این مدل هولدر نداره هم هزینش کمتر میشینه هم کمک به ی شرکت ایرانی میشه مرسی از دیجی کالا</td>\n",
       "      <td>1</td>\n",
       "    </tr>\n",
       "    <tr>\n",
       "      <th>2057137</th>\n",
       "      <td>محصول با سیم های شارژر سامسونگ که من تست کردم استاندارد نیست و سایزش بزرگ است</td>\n",
       "      <td>1</td>\n",
       "    </tr>\n",
       "    <tr>\n",
       "      <th>2057154</th>\n",
       "      <td>اصلا اون چیزی ک انتظار داشتم نبود کیفیت صداش از هم زده های خودش پایین تره</td>\n",
       "      <td>1</td>\n",
       "    </tr>\n",
       "  </tbody>\n",
       "</table>\n",
       "</div>"
      ],
      "text/plain": [
       "                                                                                                                                                                                                                                  text  \\\n",
       "2057128  من بخاطر اوضاع کرونا و سنسور اکسیژن این ساعت رو خریداری کردم مگرنه چیز خاصی نداره . ظاهرش هم قشنگه . ولی خیلی معمولیه                                                                                                           \n",
       "2057129  اگر یه سیم کارت دارید که می خوایید استفاده کنید چیز خوبیه ولی اگر می خوایید از حسگراش استفاه کنید نخرید چون اصلا حسگر نداره  من خیلی جست و جو کردم اینو خریدم اخر هم چیزی که می خواستم نشد گفتم توضیحات رو بدم بقیه گول نخورن   \n",
       "2057134  واقعن عالیه ولی با قیمت کمتر میشه تسکو گرفت اینو برا خودم نگرفتم منتظرم شگفت انگیز بخورن تسکو بگیرم متاسفانه این مدل هولدر نداره هم هزینش کمتر میشینه هم کمک به ی شرکت ایرانی میشه مرسی از دیجی کالا                            \n",
       "2057137  محصول با سیم های شارژر سامسونگ که من تست کردم استاندارد نیست و سایزش بزرگ است                                                                                                                                                   \n",
       "2057154  اصلا اون چیزی ک انتظار داشتم نبود کیفیت صداش از هم زده های خودش پایین تره                                                                                                                                                       \n",
       "\n",
       "         label  \n",
       "2057128  1      \n",
       "2057129  1      \n",
       "2057134  1      \n",
       "2057137  1      \n",
       "2057154  1      "
      ]
     },
     "execution_count": 46,
     "metadata": {},
     "output_type": "execute_result"
    }
   ],
   "source": [
    "ddd = pd.DataFrame({'text':X, 'label':Y})"
   ]
  },
  {
   "cell_type": "code",
   "execution_count": 51,
   "metadata": {},
   "outputs": [
    {
     "name": "stderr",
     "output_type": "stream",
     "text": [
      "C:\\ProgramData\\Anaconda3\\lib\\site-packages\\pandas\\core\\frame.py:6201: FutureWarning: Sorting because non-concatenation axis is not aligned. A future version\n",
      "of pandas will change to not sort by default.\n",
      "\n",
      "To accept the future behavior, pass 'sort=True'.\n",
      "\n",
      "To retain the current behavior and silence the warning, pass sort=False\n",
      "\n",
      "  sort=sort)\n"
     ]
    },
    {
     "data": {
      "text/html": [
       "<div>\n",
       "<style scoped>\n",
       "    .dataframe tbody tr th:only-of-type {\n",
       "        vertical-align: middle;\n",
       "    }\n",
       "\n",
       "    .dataframe tbody tr th {\n",
       "        vertical-align: top;\n",
       "    }\n",
       "\n",
       "    .dataframe thead th {\n",
       "        text-align: right;\n",
       "    }\n",
       "</style>\n",
       "<table border=\"1\" class=\"dataframe\">\n",
       "  <thead>\n",
       "    <tr style=\"text-align: right;\">\n",
       "      <th></th>\n",
       "      <th>label</th>\n",
       "      <th>proba</th>\n",
       "      <th>text</th>\n",
       "    </tr>\n",
       "  </thead>\n",
       "  <tbody>\n",
       "    <tr>\n",
       "      <th>0</th>\n",
       "      <td>0</td>\n",
       "      <td>NaN</td>\n",
       "      <td>تو تخفیف بخرید راضی کننده است</td>\n",
       "    </tr>\n",
       "    <tr>\n",
       "      <th>1</th>\n",
       "      <td>0</td>\n",
       "      <td>NaN</td>\n",
       "      <td>ساعت زبان فارسی دارد  تاج بسیار قوی  نسبت به قیمت عالیه</td>\n",
       "    </tr>\n",
       "    <tr>\n",
       "      <th>2</th>\n",
       "      <td>0</td>\n",
       "      <td>NaN</td>\n",
       "      <td>ساعت خیلی خوبیه همه چیزش عالی کار میکنه اگر باتریش کمی قوی بود عالی تر میشد</td>\n",
       "    </tr>\n",
       "    <tr>\n",
       "      <th>3</th>\n",
       "      <td>0</td>\n",
       "      <td>NaN</td>\n",
       "      <td>خوبه ساعته بدی نیست بیشتر به درد ورزشکارا میخوره ولی انگار مشکی نیس بندش و دورش سورمه ایه درصورتی ک مشکی سفارش دادم ولی د کل راضیم از همه چیش کیفیتش عالی همه چیش عالی</td>\n",
       "    </tr>\n",
       "    <tr>\n",
       "      <th>4</th>\n",
       "      <td>0</td>\n",
       "      <td>NaN</td>\n",
       "      <td>کیبرد ش زبان فارسی نداره ولی در کل زبان فارسی دارد</td>\n",
       "    </tr>\n",
       "  </tbody>\n",
       "</table>\n",
       "</div>"
      ],
      "text/plain": [
       "   label  proba  \\\n",
       "0  0     NaN      \n",
       "1  0     NaN      \n",
       "2  0     NaN      \n",
       "3  0     NaN      \n",
       "4  0     NaN      \n",
       "\n",
       "                                                                                                                                                                     text  \n",
       "0  تو تخفیف بخرید راضی کننده است                                                                                                                                           \n",
       "1  ساعت زبان فارسی دارد  تاج بسیار قوی  نسبت به قیمت عالیه                                                                                                                 \n",
       "2  ساعت خیلی خوبیه همه چیزش عالی کار میکنه اگر باتریش کمی قوی بود عالی تر میشد                                                                                             \n",
       "3  خوبه ساعته بدی نیست بیشتر به درد ورزشکارا میخوره ولی انگار مشکی نیس بندش و دورش سورمه ایه درصورتی ک مشکی سفارش دادم ولی د کل راضیم از همه چیش کیفیتش عالی همه چیش عالی  \n",
       "4  کیبرد ش زبان فارسی نداره ولی در کل زبان فارسی دارد                                                                                                                      "
      ]
     },
     "execution_count": 51,
     "metadata": {},
     "output_type": "execute_result"
    }
   ],
   "source": [
    "ddd = ddd.append(dd)\n",
    "ddd.head()"
   ]
  },
  {
   "cell_type": "markdown",
   "metadata": {},
   "source": [
    "New dataset is ready for embedding and modeling"
   ]
  },
  {
   "cell_type": "code",
   "execution_count": 56,
   "metadata": {},
   "outputs": [],
   "source": [
    "ddd = ddd.sample(frac=1.0)\n",
    "X_p = ddd['text'].values\n",
    "Y_p = ddd['label'].values"
   ]
  },
  {
   "cell_type": "code",
   "execution_count": 61,
   "metadata": {},
   "outputs": [],
   "source": [
    "tokenizer = Tokenizer(num_words=2000000,filters='!\"#$%&()*+,-./;<=>?@][\\\\]^{|}~\\t\\n')\n",
    "tokenizer.fit_on_texts(X_p)\n",
    "index_of_words = tokenizer.word_index\n",
    "\n",
    "embed_matrix_fasts = build_embed_matrix(embed_path,index_of_words)"
   ]
  },
  {
   "cell_type": "code",
   "execution_count": 62,
   "metadata": {},
   "outputs": [
    {
     "name": "stdout",
     "output_type": "stream",
     "text": [
      "#Fold: 1\n",
      "Oversampling ...\n",
      "Pad Sequencing ...\n",
      "Modeling ...\n",
      "Epoch 1/7\n",
      "1112/1112 [==============================] - 263s 237ms/step - loss: 0.1934 - accuracy: 0.9306 - val_loss: 0.1046 - val_accuracy: 0.9636\n",
      "Epoch 2/7\n",
      "1112/1112 [==============================] - 262s 236ms/step - loss: 0.1130 - accuracy: 0.9654 - val_loss: 0.0868 - val_accuracy: 0.9703\n",
      "Epoch 3/7\n",
      "1112/1112 [==============================] - 262s 236ms/step - loss: 0.0963 - accuracy: 0.9707 - val_loss: 0.0819 - val_accuracy: 0.9722\n",
      "Epoch 4/7\n",
      "1112/1112 [==============================] - 265s 238ms/step - loss: 0.0876 - accuracy: 0.9732 - val_loss: 0.0793 - val_accuracy: 0.9729\n",
      "Epoch 5/7\n",
      "1112/1112 [==============================] - 265s 238ms/step - loss: 0.0815 - accuracy: 0.9748 - val_loss: 0.0761 - val_accuracy: 0.9739\n",
      "Epoch 6/7\n",
      "1112/1112 [==============================] - 265s 238ms/step - loss: 0.0771 - accuracy: 0.9761 - val_loss: 0.0756 - val_accuracy: 0.9744\n",
      "Epoch 7/7\n",
      "1112/1112 [==============================] - 265s 238ms/step - loss: 0.0735 - accuracy: 0.9773 - val_loss: 0.0747 - val_accuracy: 0.9750\n",
      "Evaluating ...\n"
     ]
    },
    {
     "data": {
      "image/png": "[encoded data removed]",
      "text/plain": [
       "<Figure size 432x288 with 1 Axes>"
      ]
     },
     "metadata": {},
     "output_type": "display_data"
    },
    {
     "name": "stdout",
     "output_type": "stream",
     "text": [
      "AUC: 0.9943626143175812\n",
      "f1_score: 0.9430514341026531\n",
      "Confusion Matrix:\n",
      " [[357492   4558]\n",
      " [  7091  96452]]\n",
      "#Fold: 2\n",
      "Oversampling ...\n",
      "Pad Sequencing ...\n",
      "Modeling ...\n",
      "Epoch 1/7\n",
      "1112/1112 [==============================] - 265s 238ms/step - loss: 0.1882 - accuracy: 0.9331 - val_loss: 0.1052 - val_accuracy: 0.9635\n",
      "Epoch 2/7\n",
      "1112/1112 [==============================] - 265s 238ms/step - loss: 0.1114 - accuracy: 0.9651 - val_loss: 0.0885 - val_accuracy: 0.9705\n",
      "Epoch 3/7\n",
      "1112/1112 [==============================] - 265s 238ms/step - loss: 0.0949 - accuracy: 0.9705 - val_loss: 0.0814 - val_accuracy: 0.9722\n",
      "Epoch 4/7\n",
      "1112/1112 [==============================] - 265s 238ms/step - loss: 0.0864 - accuracy: 0.9733 - val_loss: 0.0796 - val_accuracy: 0.9730\n",
      "Epoch 5/7\n",
      "1112/1112 [==============================] - 265s 238ms/step - loss: 0.0805 - accuracy: 0.9750 - val_loss: 0.0764 - val_accuracy: 0.9738\n",
      "Epoch 6/7\n",
      "1112/1112 [==============================] - 265s 238ms/step - loss: 0.0765 - accuracy: 0.9761 - val_loss: 0.0759 - val_accuracy: 0.9744\n",
      "Epoch 7/7\n",
      "1112/1112 [==============================] - 293s 264ms/step - loss: 0.0732 - accuracy: 0.9772 - val_loss: 0.0753 - val_accuracy: 0.9752\n",
      "Evaluating ...\n"
     ]
    },
    {
     "data": {
      "image/png": "[encoded data removed]",
      "text/plain": [
       "<Figure size 432x288 with 1 Axes>"
      ]
     },
     "metadata": {},
     "output_type": "display_data"
    },
    {
     "name": "stdout",
     "output_type": "stream",
     "text": [
      "AUC: 0.9942865005179037\n",
      "f1_score: 0.9434457112100603\n",
      "Confusion Matrix:\n",
      " [[357628   4422]\n",
      " [  7136  96406]]\n",
      "#Fold: 3\n",
      "Oversampling ...\n",
      "Pad Sequencing ...\n",
      "Modeling ...\n",
      "Epoch 1/7\n",
      "1112/1112 [==============================] - 262s 235ms/step - loss: 0.1918 - accuracy: 0.9310 - val_loss: 0.1010 - val_accuracy: 0.9651\n",
      "Epoch 2/7\n",
      "1112/1112 [==============================] - 264s 238ms/step - loss: 0.1110 - accuracy: 0.9658 - val_loss: 0.0856 - val_accuracy: 0.9708\n",
      "Epoch 3/7\n",
      "1112/1112 [==============================] - 264s 237ms/step - loss: 0.0950 - accuracy: 0.9707 - val_loss: 0.0792 - val_accuracy: 0.9728\n",
      "Epoch 4/7\n",
      "1112/1112 [==============================] - 264s 237ms/step - loss: 0.0868 - accuracy: 0.9732 - val_loss: 0.0768 - val_accuracy: 0.9738\n",
      "Epoch 5/7\n",
      "1112/1112 [==============================] - 264s 237ms/step - loss: 0.0810 - accuracy: 0.9749 - val_loss: 0.0765 - val_accuracy: 0.9744\n",
      "Epoch 6/7\n",
      "1112/1112 [==============================] - 264s 237ms/step - loss: 0.0768 - accuracy: 0.9763 - val_loss: 0.0758 - val_accuracy: 0.9751\n",
      "Epoch 7/7\n",
      "1112/1112 [==============================] - 264s 237ms/step - loss: 0.0733 - accuracy: 0.9774 - val_loss: 0.0736 - val_accuracy: 0.9755\n",
      "Evaluating ...\n"
     ]
    },
    {
     "data": {
      "image/png": "[encoded data removed]",
      "text/plain": [
       "<Figure size 432x288 with 1 Axes>"
      ]
     },
     "metadata": {},
     "output_type": "display_data"
    },
    {
     "name": "stdout",
     "output_type": "stream",
     "text": [
      "AUC: 0.9945748542567568\n",
      "f1_score: 0.9443381117925083\n",
      "Confusion Matrix:\n",
      " [[357488   4562]\n",
      " [  6838  96704]]\n",
      "#Fold: 4\n",
      "Oversampling ...\n",
      "Pad Sequencing ...\n",
      "Modeling ...\n",
      "Epoch 1/7\n",
      "1112/1112 [==============================] - 2056s 2s/step - loss: 0.2084 - accuracy: 0.9237 - val_loss: 0.0618 - val_accuracy: 0.9824\n",
      "Epoch 2/7\n",
      "1112/1112 [==============================] - 266s 239ms/step - loss: 0.1298 - accuracy: 0.9583 - val_loss: 0.0488 - val_accuracy: 0.9852\n",
      "Epoch 3/7\n",
      "1112/1112 [==============================] - 266s 239ms/step - loss: 0.1119 - accuracy: 0.9646 - val_loss: 0.0410 - val_accuracy: 0.9878\n",
      "Epoch 4/7\n",
      "1112/1112 [==============================] - 266s 240ms/step - loss: 0.1030 - accuracy: 0.9678 - val_loss: 0.0403 - val_accuracy: 0.9878\n",
      "Epoch 5/7\n",
      "1112/1112 [==============================] - 266s 239ms/step - loss: 0.0958 - accuracy: 0.9700 - val_loss: 0.0397 - val_accuracy: 0.9876\n",
      "Epoch 6/7\n",
      "1112/1112 [==============================] - 266s 239ms/step - loss: 0.0913 - accuracy: 0.9716 - val_loss: 0.0416 - val_accuracy: 0.9860\n",
      "Epoch 7/7\n",
      "1112/1112 [==============================] - 266s 239ms/step - loss: 0.0873 - accuracy: 0.9729 - val_loss: 0.0342 - val_accuracy: 0.9894\n",
      "Evaluating ...\n"
     ]
    },
    {
     "data": {
      "image/png": "[encoded data removed]",
      "text/plain": [
       "<Figure size 432x288 with 1 Axes>"
      ]
     },
     "metadata": {},
     "output_type": "display_data"
    },
    {
     "name": "stdout",
     "output_type": "stream",
     "text": [
      "AUC: 0.9994723841351509\n",
      "f1_score: 0.9767283877815779\n",
      "Confusion Matrix:\n",
      " [[357138   4912]\n",
      " [    21 103521]]\n",
      "#Fold: 5\n",
      "Oversampling ...\n",
      "Pad Sequencing ...\n",
      "Modeling ...\n",
      "Epoch 1/7\n",
      "1112/1112 [==============================] - 267s 240ms/step - loss: 0.2137 - accuracy: 0.9216 - val_loss: 0.0532 - val_accuracy: 0.9858\n",
      "Epoch 2/7\n",
      "1112/1112 [==============================] - 266s 239ms/step - loss: 0.1308 - accuracy: 0.9584 - val_loss: 0.0394 - val_accuracy: 0.9893\n",
      "Epoch 3/7\n",
      "1112/1112 [==============================] - 267s 240ms/step - loss: 0.1133 - accuracy: 0.9644 - val_loss: 0.0341 - val_accuracy: 0.9907\n",
      "Epoch 4/7\n",
      "1112/1112 [==============================] - 267s 240ms/step - loss: 0.1037 - accuracy: 0.9677 - val_loss: 0.0308 - val_accuracy: 0.9917\n",
      "Epoch 5/7\n",
      "1112/1112 [==============================] - 267s 240ms/step - loss: 0.0971 - accuracy: 0.9697 - val_loss: 0.0331 - val_accuracy: 0.9894\n",
      "Epoch 6/7\n",
      "1112/1112 [==============================] - 267s 240ms/step - loss: 0.0923 - accuracy: 0.9713 - val_loss: 0.0358 - val_accuracy: 0.9888\n",
      "Epoch 7/7\n",
      "1112/1112 [==============================] - 267s 240ms/step - loss: 0.0879 - accuracy: 0.9726 - val_loss: 0.0335 - val_accuracy: 0.9890\n",
      "Evaluating ...\n"
     ]
    },
    {
     "data": {
      "image/png": "[encoded data removed]",
      "text/plain": [
       "<Figure size 432x288 with 1 Axes>"
      ]
     },
     "metadata": {},
     "output_type": "display_data"
    },
    {
     "name": "stdout",
     "output_type": "stream",
     "text": [
      "AUC: 0.9996136640729629\n",
      "f1_score: 0.9758658554401971\n",
      "Confusion Matrix:\n",
      " [[356937   5112]\n",
      " [     9 103534]]\n"
     ]
    }
   ],
   "source": [
    "for fold, (train_index, test_index) in enumerate(skf.split(X_p,Y_p)):\n",
    "    \n",
    "    print('#Fold:', fold+1)\n",
    "    \n",
    "    Xtrain, Xtest = X_p[train_index], X_p[test_index]\n",
    "    Ytrain, Ytest = Y_p[train_index], Y_p[test_index]\n",
    "    \n",
    "    print('Oversampling ...')\n",
    "    Xtrain = np.append(Xtrain, Xtrain[Ytrain==1])\n",
    "    Ytrain = np.append(Ytrain, Ytrain[Ytrain==1])\n",
    "    \n",
    "    print('Pad Sequencing ...')\n",
    "    sequence_train = tokenizer.texts_to_sequences(Xtrain)\n",
    "    sequence_test = tokenizer.texts_to_sequences(Xtest)\n",
    "    padata_train = pad_sequences(sequence_train,maxlen=max_seq_len, padding='post')\n",
    "    padata_test = pad_sequences(sequence_test,maxlen=max_seq_len, padding='post')\n",
    "    \n",
    "    print('Modeling ...')\n",
    "    model = create_model()\n",
    "    history= model.fit(padata_train, Ytrain, validation_data=(padata_test,Ytest),epochs=epoches, batch_size=batch_size,\n",
    "                       verbose=1, shuffle=True)\n",
    "    \n",
    "    print('Evaluating ...')\n",
    "    pred_class = model.predict_classes(padata_test)\n",
    "    pred_proba = model.predict(padata_test)\n",
    "    Evaluation(Ytest, pred_class, pred_proba, fold)"
   ]
  },
  {
   "cell_type": "code",
   "execution_count": null,
   "metadata": {},
   "outputs": [],
   "source": []
  }
 ],
 "metadata": {
  "kernelspec": {
   "display_name": "Python 3",
   "language": "python",
   "name": "python3"
  },
  "language_info": {
   "codemirror_mode": {
    "name": "ipython",
    "version": 3
   },
   "file_extension": ".py",
   "mimetype": "text/x-python",
   "name": "python",
   "nbconvert_exporter": "python",
   "pygments_lexer": "ipython3",
   "version": "3.6.5"
  }
 },
 "nbformat": 4,
 "nbformat_minor": 2
}
