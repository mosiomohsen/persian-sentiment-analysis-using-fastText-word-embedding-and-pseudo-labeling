{
 "cells": [
  {
   "cell_type": "code",
   "execution_count": 3,
   "metadata": {},
   "outputs": [],
   "source": [
    "import re\n",
    "import gc\n",
    "import os\n",
    "import pickle\n",
    "import random\n",
    "from preprocess import preprocess\n",
    "import numpy as np\n",
    "import pandas as pd\n",
    "import matplotlib.pyplot as plt\n",
    "from sklearn.manifold import TSNE\n",
    "from sklearn.model_selection import KFold,StratifiedKFold, train_test_split\n",
    "import tensorflow as tf\n",
    "from sklearn.utils import shuffle\n",
    "from tensorflow.keras.optimizers import Adam\n",
    "from tensorflow.keras.preprocessing.text import Tokenizer\n",
    "from tensorflow.keras.models import Sequential\n",
    "from tensorflow.keras.utils import to_categorical\n",
    "from sklearn.metrics import roc_auc_score, f1_score, confusion_matrix, roc_curve\n",
    "from tensorflow.keras.callbacks import EarlyStopping\n",
    "from tensorflow.keras.preprocessing.sequence import pad_sequences\n",
    "from sklearn.metrics import accuracy_score,confusion_matrix, classification_report,f1_score\n",
    "from tensorflow.keras.layers import Dense,Dropout,Embedding,LSTM,Conv1D, GlobalMaxPooling1D,Flatten,MaxPooling1D,GRU,SpatialDropout1D,Bidirectional, LSTM\n",
    "\n",
    "pd.set_option('display.max_columns',None)\n",
    "pd.set_option('display.max_rows',None)\n",
    "pd.set_option('display.max_colwidth',-1)"
   ]
  },
  {
   "cell_type": "code",
   "execution_count": 4,
   "metadata": {},
   "outputs": [],
   "source": [
    "df_ = pd.read_csv(r'DK.csv', encoding='utf-8')\n",
    "# df.head(25)"
   ]
  },
  {
   "cell_type": "code",
   "execution_count": 5,
   "metadata": {},
   "outputs": [
    {
     "data": {
      "text/plain": [
       "0    2624635\n",
       "1    308112 \n",
       "Name: NegetiveFeedback, dtype: int64"
      ]
     },
     "execution_count": 5,
     "metadata": {},
     "output_type": "execute_result"
    }
   ],
   "source": [
    "df_['NegetiveFeedback'].value_counts()"
   ]
  },
  {
   "cell_type": "code",
   "execution_count": 6,
   "metadata": {},
   "outputs": [
    {
     "data": {
      "text/html": [
       "<div>\n",
       "<style scoped>\n",
       "    .dataframe tbody tr th:only-of-type {\n",
       "        vertical-align: middle;\n",
       "    }\n",
       "\n",
       "    .dataframe tbody tr th {\n",
       "        vertical-align: top;\n",
       "    }\n",
       "\n",
       "    .dataframe thead th {\n",
       "        text-align: right;\n",
       "    }\n",
       "</style>\n",
       "<table border=\"1\" class=\"dataframe\">\n",
       "  <thead>\n",
       "    <tr style=\"text-align: right;\">\n",
       "      <th></th>\n",
       "      <th>Unnamed: 0</th>\n",
       "      <th>BadComment</th>\n",
       "      <th>Comment</th>\n",
       "      <th>Date</th>\n",
       "      <th>GoodComment</th>\n",
       "      <th>ItemURL</th>\n",
       "      <th>NegetiveFeedback</th>\n",
       "      <th>Person</th>\n",
       "      <th>PositiveFeedback</th>\n",
       "      <th>SubCatName</th>\n",
       "      <th>SubName</th>\n",
       "      <th>Unnamed: 0.1</th>\n",
       "      <th>Unnamed: 0.1.1</th>\n",
       "      <th>len</th>\n",
       "    </tr>\n",
       "  </thead>\n",
       "  <tbody>\n",
       "    <tr>\n",
       "      <th>0</th>\n",
       "      <td>0</td>\n",
       "      <td>۰</td>\n",
       "      <td>&lt;p&gt;من کاملا با این محصول آشنا بودم و از خریدش مطمین بودم&lt;/p&gt;</td>\n",
       "      <td>\\r\\n                                در تاریخ ۲ مهر ۱۳۹۹\\r\\n</td>\n",
       "      <td>۰</td>\n",
       "      <td>/product/dkp-1878144/ساعت-هوشمند-سامسونگ-مدل-galaxy-watch-active2-44mm</td>\n",
       "      <td>0</td>\n",
       "      <td>\\r\\n                                سمانه خلج مهرآبادي\\r\\n</td>\n",
       "      <td>1</td>\n",
       "      <td>ساعت هوشمند</td>\n",
       "      <td>کالای دیجیتال</td>\n",
       "      <td>NaN</td>\n",
       "      <td>NaN</td>\n",
       "      <td>12</td>\n",
       "    </tr>\n",
       "    <tr>\n",
       "      <th>1</th>\n",
       "      <td>1</td>\n",
       "      <td>۲</td>\n",
       "      <td>&lt;p&gt;به درد خاصی نمیخوره صرفا یکی دو روز باهاش سرگرمین بعد به عنوان یه ساعت معمولی ازش استفاده میکنین&lt;/p&gt;</td>\n",
       "      <td>\\r\\n                                در تاریخ ۱ مهر ۱۳۹۹\\r\\n</td>\n",
       "      <td>۴</td>\n",
       "      <td>/product/dkp-1878144/ساعت-هوشمند-سامسونگ-مدل-galaxy-watch-active2-44mm</td>\n",
       "      <td>0</td>\n",
       "      <td>\\r\\n                                محجوبه زارعی\\r\\n</td>\n",
       "      <td>0</td>\n",
       "      <td>ساعت هوشمند</td>\n",
       "      <td>کالای دیجیتال</td>\n",
       "      <td>NaN</td>\n",
       "      <td>NaN</td>\n",
       "      <td>19</td>\n",
       "    </tr>\n",
       "    <tr>\n",
       "      <th>2</th>\n",
       "      <td>2</td>\n",
       "      <td>۰</td>\n",
       "      <td>&lt;p&gt;در یک کلام به نسبت هزینه ای که میکنید کالمل ترین ساعت بازار رو دریافت می‌کنید&lt;br/&gt;\\r\\r\\nدسترسی کامل به نوتیفیکشن ها و توانایی به پاسخ دادن به پیام ها از طریق خود ساعت&lt;br/&gt;\\r\\r\\nهمچنین برنامه کامل ورزشی تمام نیاز های شما رو برآورده میکنه&lt;/p&gt;</td>\n",
       "      <td>\\r\\n                                در تاریخ ۳۱ شهریور ۱۳۹۹\\r\\n</td>\n",
       "      <td>۰</td>\n",
       "      <td>/product/dkp-1878144/ساعت-هوشمند-سامسونگ-مدل-galaxy-watch-active2-44mm</td>\n",
       "      <td>0</td>\n",
       "      <td>\\r\\n                                محمد رضا میرشکار سیاهکل\\r\\n</td>\n",
       "      <td>0</td>\n",
       "      <td>ساعت هوشمند</td>\n",
       "      <td>کالای دیجیتال</td>\n",
       "      <td>NaN</td>\n",
       "      <td>NaN</td>\n",
       "      <td>44</td>\n",
       "    </tr>\n",
       "    <tr>\n",
       "      <th>3</th>\n",
       "      <td>3</td>\n",
       "      <td>۰</td>\n",
       "      <td>&lt;p&gt;ساعت بسیار عالی و کاربردی هست،میخواستم برای دوستم هم بگیرم ولی به دلیل تفاوت قیمت زیاد از دیجی کالا نمیخرم،&lt;/p&gt;</td>\n",
       "      <td>\\r\\n                                در تاریخ ۲۹ شهریور ۱۳۹۹\\r\\n</td>\n",
       "      <td>۰</td>\n",
       "      <td>/product/dkp-1878144/ساعت-هوشمند-سامسونگ-مدل-galaxy-watch-active2-44mm</td>\n",
       "      <td>0</td>\n",
       "      <td>\\r\\n                                کاربر دیجی‌کالا\\r\\n</td>\n",
       "      <td>0</td>\n",
       "      <td>ساعت هوشمند</td>\n",
       "      <td>کالای دیجیتال</td>\n",
       "      <td>NaN</td>\n",
       "      <td>NaN</td>\n",
       "      <td>20</td>\n",
       "    </tr>\n",
       "    <tr>\n",
       "      <th>4</th>\n",
       "      <td>4</td>\n",
       "      <td>۰</td>\n",
       "      <td>&lt;p&gt;دقیقا مطابق آنچه انتظار می رفت بود .&lt;br/&gt;\\r\\r\\nخوب و کاربردی و مطابق استایل روز .&lt;/p&gt;</td>\n",
       "      <td>\\r\\n                                در تاریخ ۲۹ شهریور ۱۳۹۹\\r\\n</td>\n",
       "      <td>۱</td>\n",
       "      <td>/product/dkp-1878144/ساعت-هوشمند-سامسونگ-مدل-galaxy-watch-active2-44mm</td>\n",
       "      <td>0</td>\n",
       "      <td>\\r\\n                                محمد میرفخرایی\\r\\n</td>\n",
       "      <td>1</td>\n",
       "      <td>ساعت هوشمند</td>\n",
       "      <td>کالای دیجیتال</td>\n",
       "      <td>NaN</td>\n",
       "      <td>NaN</td>\n",
       "      <td>16</td>\n",
       "    </tr>\n",
       "  </tbody>\n",
       "</table>\n",
       "</div>"
      ],
      "text/plain": [
       "   Unnamed: 0 BadComment  \\\n",
       "0  0           ۰           \n",
       "1  1           ۲           \n",
       "2  2           ۰           \n",
       "3  3           ۰           \n",
       "4  4           ۰           \n",
       "\n",
       "                                                                                                                                                                                                                                               Comment  \\\n",
       "0  <p>من کاملا با این محصول آشنا بودم و از خریدش مطمین بودم</p>                                                                                                                                                                                          \n",
       "1  <p>به درد خاصی نمیخوره صرفا یکی دو روز باهاش سرگرمین بعد به عنوان یه ساعت معمولی ازش استفاده میکنین</p>                                                                                                                                               \n",
       "2  <p>در یک کلام به نسبت هزینه ای که میکنید کالمل ترین ساعت بازار رو دریافت می‌کنید<br/>\\r\\r\\nدسترسی کامل به نوتیفیکشن ها و توانایی به پاسخ دادن به پیام ها از طریق خود ساعت<br/>\\r\\r\\nهمچنین برنامه کامل ورزشی تمام نیاز های شما رو برآورده میکنه</p>   \n",
       "3  <p>ساعت بسیار عالی و کاربردی هست،میخواستم برای دوستم هم بگیرم ولی به دلیل تفاوت قیمت زیاد از دیجی کالا نمیخرم،</p>                                                                                                                                    \n",
       "4  <p>دقیقا مطابق آنچه انتظار می رفت بود .<br/>\\r\\r\\nخوب و کاربردی و مطابق استایل روز .</p>                                                                                                                                                              \n",
       "\n",
       "                                                                                          Date  \\\n",
       "0  \\r\\n                                در تاریخ ۲ مهر ۱۳۹۹\\r\\n                                   \n",
       "1  \\r\\n                                در تاریخ ۱ مهر ۱۳۹۹\\r\\n                                   \n",
       "2  \\r\\n                                در تاریخ ۳۱ شهریور ۱۳۹۹\\r\\n                               \n",
       "3  \\r\\n                                در تاریخ ۲۹ شهریور ۱۳۹۹\\r\\n                               \n",
       "4  \\r\\n                                در تاریخ ۲۹ شهریور ۱۳۹۹\\r\\n                               \n",
       "\n",
       "  GoodComment  \\\n",
       "0  ۰            \n",
       "1  ۴            \n",
       "2  ۰            \n",
       "3  ۰            \n",
       "4  ۱            \n",
       "\n",
       "                                                                  ItemURL  \\\n",
       "0  /product/dkp-1878144/ساعت-هوشمند-سامسونگ-مدل-galaxy-watch-active2-44mm   \n",
       "1  /product/dkp-1878144/ساعت-هوشمند-سامسونگ-مدل-galaxy-watch-active2-44mm   \n",
       "2  /product/dkp-1878144/ساعت-هوشمند-سامسونگ-مدل-galaxy-watch-active2-44mm   \n",
       "3  /product/dkp-1878144/ساعت-هوشمند-سامسونگ-مدل-galaxy-watch-active2-44mm   \n",
       "4  /product/dkp-1878144/ساعت-هوشمند-سامسونگ-مدل-galaxy-watch-active2-44mm   \n",
       "\n",
       "   NegetiveFeedback  \\\n",
       "0  0                  \n",
       "1  0                  \n",
       "2  0                  \n",
       "3  0                  \n",
       "4  0                  \n",
       "\n",
       "                                                                                        Person  \\\n",
       "0  \\r\\n                                سمانه خلج مهرآبادي\\r\\n                                    \n",
       "1  \\r\\n                                محجوبه زارعی\\r\\n                                          \n",
       "2  \\r\\n                                محمد رضا میرشکار سیاهکل\\r\\n                               \n",
       "3  \\r\\n                                کاربر دیجی‌کالا\\r\\n                                       \n",
       "4  \\r\\n                                محمد میرفخرایی\\r\\n                                        \n",
       "\n",
       "   PositiveFeedback   SubCatName        SubName  Unnamed: 0.1  Unnamed: 0.1.1  \\\n",
       "0  1                 ساعت هوشمند  کالای دیجیتال NaN           NaN               \n",
       "1  0                 ساعت هوشمند  کالای دیجیتال NaN           NaN               \n",
       "2  0                 ساعت هوشمند  کالای دیجیتال NaN           NaN               \n",
       "3  0                 ساعت هوشمند  کالای دیجیتال NaN           NaN               \n",
       "4  1                 ساعت هوشمند  کالای دیجیتال NaN           NaN               \n",
       "\n",
       "   len  \n",
       "0  12   \n",
       "1  19   \n",
       "2  44   \n",
       "3  20   \n",
       "4  16   "
      ]
     },
     "execution_count": 6,
     "metadata": {},
     "output_type": "execute_result"
    }
   ],
   "source": [
    "df_['len'] = df_['Comment'].astype(str).apply(lambda x: len(x.split()))\n",
    "df_.head()"
   ]
  },
  {
   "cell_type": "code",
   "execution_count": 7,
   "metadata": {},
   "outputs": [
    {
     "name": "stdout",
     "output_type": "stream",
     "text": [
      "2932747\n",
      "2057167\n"
     ]
    }
   ],
   "source": [
    "print(len(df_))\n",
    "df = df_[(df_['PositiveFeedback']==1)|(df_['NegetiveFeedback']==1)]\n",
    "print(len(df))"
   ]
  },
  {
   "cell_type": "code",
   "execution_count": 8,
   "metadata": {},
   "outputs": [],
   "source": [
    "df = df.sample(frac=1.0)"
   ]
  },
  {
   "cell_type": "code",
   "execution_count": 9,
   "metadata": {},
   "outputs": [
    {
     "data": {
      "text/html": [
       "<div>\n",
       "<style scoped>\n",
       "    .dataframe tbody tr th:only-of-type {\n",
       "        vertical-align: middle;\n",
       "    }\n",
       "\n",
       "    .dataframe tbody tr th {\n",
       "        vertical-align: top;\n",
       "    }\n",
       "\n",
       "    .dataframe thead th {\n",
       "        text-align: right;\n",
       "    }\n",
       "</style>\n",
       "<table border=\"1\" class=\"dataframe\">\n",
       "  <thead>\n",
       "    <tr style=\"text-align: right;\">\n",
       "      <th></th>\n",
       "      <th>Unnamed: 0</th>\n",
       "      <th>BadComment</th>\n",
       "      <th>Comment</th>\n",
       "      <th>Date</th>\n",
       "      <th>GoodComment</th>\n",
       "      <th>ItemURL</th>\n",
       "      <th>NegetiveFeedback</th>\n",
       "      <th>Person</th>\n",
       "      <th>PositiveFeedback</th>\n",
       "      <th>SubCatName</th>\n",
       "      <th>SubName</th>\n",
       "      <th>Unnamed: 0.1</th>\n",
       "      <th>Unnamed: 0.1.1</th>\n",
       "      <th>len</th>\n",
       "      <th>Label</th>\n",
       "    </tr>\n",
       "  </thead>\n",
       "  <tbody>\n",
       "    <tr>\n",
       "      <th>2084625</th>\n",
       "      <td>1087708</td>\n",
       "      <td>۰</td>\n",
       "      <td>&lt;p&gt;نسبت به قیمت عالیه&lt;/p&gt;</td>\n",
       "      <td>\\r\\n                                در تاریخ ۲۸ فروردین ۱۳۹۹\\r\\n</td>\n",
       "      <td>۴</td>\n",
       "      <td>/product/dkp-2264825/ساعت-هوشمند-مودیو-مدل-mw01</td>\n",
       "      <td>0</td>\n",
       "      <td>\\r\\n                                مجید ایزدی\\r\\n</td>\n",
       "      <td>1</td>\n",
       "      <td>ساعت هوشمند</td>\n",
       "      <td>کالای دیجیتال</td>\n",
       "      <td>821.0</td>\n",
       "      <td>821.0</td>\n",
       "      <td>4</td>\n",
       "      <td>0</td>\n",
       "    </tr>\n",
       "    <tr>\n",
       "      <th>2264312</th>\n",
       "      <td>1267395</td>\n",
       "      <td>۱۵</td>\n",
       "      <td>&lt;p&gt;اصلا اون چیزی ک تو عکس میبینید و انتظار دارید نیست &lt;br/&gt;\\r\\r\\nکیفیت پایین ساخت &lt;br/&gt;\\r\\r\\nخلاصه ب هیچ وجه پولتونو حروم نکنید&lt;/p&gt;</td>\n",
       "      <td>\\r\\n                                در تاریخ ۱۹ آبان ۱۳۹۷\\r\\n</td>\n",
       "      <td>۷</td>\n",
       "      <td>/product/dkp-427426/ساعت-هوشمند-میدسان-مدل-a1</td>\n",
       "      <td>1</td>\n",
       "      <td>\\r\\n                                سید محمد علی مؤذن\\r\\n</td>\n",
       "      <td>0</td>\n",
       "      <td>ساعت هوشمند</td>\n",
       "      <td>کالای دیجیتال</td>\n",
       "      <td>1146.0</td>\n",
       "      <td>1146.0</td>\n",
       "      <td>23</td>\n",
       "      <td>1</td>\n",
       "    </tr>\n",
       "    <tr>\n",
       "      <th>318263</th>\n",
       "      <td>302541</td>\n",
       "      <td>۰</td>\n",
       "      <td>&lt;p&gt;واقعا به نظر ممن نخرید خیلی زود میشکنه من هفته اولی که خریدم از دستم افتاد رو موکت سه جاش شکست در ضمن علامت پایین گوشی رو هم نه کامل میپوشونه نه کامل نمایش میده&lt;/p&gt;</td>\n",
       "      <td>\\r\\r\\n                                در تاریخ ۱۴ شهریور ۱۳۹۹\\r\\r\\n</td>\n",
       "      <td>۰</td>\n",
       "      <td>/product/dkp-2123004/محافظ-صفحه-نمایش-5d-هورس-مدل-fag-مناسب-برای-گوشی-موبایل-شیائومی-redmi-note-8</td>\n",
       "      <td>1</td>\n",
       "      <td>\\r\\r\\n                                Amir Hossein  jafari\\r\\r\\n</td>\n",
       "      <td>0</td>\n",
       "      <td>لوازم جانبی گوشی موبایل</td>\n",
       "      <td>کالای دیجیتال</td>\n",
       "      <td>3301.0</td>\n",
       "      <td>NaN</td>\n",
       "      <td>35</td>\n",
       "      <td>1</td>\n",
       "    </tr>\n",
       "    <tr>\n",
       "      <th>1437266</th>\n",
       "      <td>440349</td>\n",
       "      <td>۰</td>\n",
       "      <td>&lt;p&gt;حتما بخرید وکوچک ترین شکی رو خریدتون نکنید&lt;/p&gt;</td>\n",
       "      <td>\\r\\n                                در تاریخ ۶ دی ۱۳۹۸\\r\\n</td>\n",
       "      <td>۱</td>\n",
       "      <td>/product/dkp-973926/مچ-بند-هوشمند-شیائومی-مدل-mi-band-3-new-package-2019</td>\n",
       "      <td>0</td>\n",
       "      <td>\\r\\n                                عرفان صالحیزاده\\r\\n</td>\n",
       "      <td>1</td>\n",
       "      <td>ساعت هوشمند</td>\n",
       "      <td>کالای دیجیتال</td>\n",
       "      <td>379.0</td>\n",
       "      <td>379.0</td>\n",
       "      <td>8</td>\n",
       "      <td>0</td>\n",
       "    </tr>\n",
       "    <tr>\n",
       "      <th>494189</th>\n",
       "      <td>478467</td>\n",
       "      <td>۰</td>\n",
       "      <td>&lt;p&gt;سریع به دوربین متصل میشه.&lt;/p&gt;</td>\n",
       "      <td>\\r\\r\\n                                در تاریخ ۲۷ شهریور ۱۳۹۹\\r\\r\\n</td>\n",
       "      <td>۰</td>\n",
       "      <td>/product/dkp-112285/ریموت-کنترل-بی-سیم-دوربین-نیکون-مدل-ml-l3</td>\n",
       "      <td>0</td>\n",
       "      <td>\\r\\r\\n                                سعیده مشهور\\r\\r\\n</td>\n",
       "      <td>1</td>\n",
       "      <td>لوازم جانبی عکاسی و فیلم برداری</td>\n",
       "      <td>کالای دیجیتال</td>\n",
       "      <td>4793.0</td>\n",
       "      <td>NaN</td>\n",
       "      <td>5</td>\n",
       "      <td>0</td>\n",
       "    </tr>\n",
       "  </tbody>\n",
       "</table>\n",
       "</div>"
      ],
      "text/plain": [
       "         Unnamed: 0 BadComment  \\\n",
       "2084625  1087708     ۰           \n",
       "2264312  1267395     ۱۵          \n",
       "318263   302541      ۰           \n",
       "1437266  440349      ۰           \n",
       "494189   478467      ۰           \n",
       "\n",
       "                                                                                                                                                                         Comment  \\\n",
       "2084625  <p>نسبت به قیمت عالیه</p>                                                                                                                                                 \n",
       "2264312  <p>اصلا اون چیزی ک تو عکس میبینید و انتظار دارید نیست <br/>\\r\\r\\nکیفیت پایین ساخت <br/>\\r\\r\\nخلاصه ب هیچ وجه پولتونو حروم نکنید</p>                                       \n",
       "318263   <p>واقعا به نظر ممن نخرید خیلی زود میشکنه من هفته اولی که خریدم از دستم افتاد رو موکت سه جاش شکست در ضمن علامت پایین گوشی رو هم نه کامل میپوشونه نه کامل نمایش میده</p>   \n",
       "1437266  <p>حتما بخرید وکوچک ترین شکی رو خریدتون نکنید</p>                                                                                                                         \n",
       "494189   <p>سریع به دوربین متصل میشه.</p>                                                                                                                                          \n",
       "\n",
       "                                                                                                    Date  \\\n",
       "2084625  \\r\\n                                در تاریخ ۲۸ فروردین ۱۳۹۹\\r\\n                                  \n",
       "2264312  \\r\\n                                در تاریخ ۱۹ آبان ۱۳۹۷\\r\\n                                     \n",
       "318263   \\r\\r\\n                                در تاریخ ۱۴ شهریور ۱۳۹۹\\r\\r\\n                               \n",
       "1437266  \\r\\n                                در تاریخ ۶ دی ۱۳۹۸\\r\\n                                        \n",
       "494189   \\r\\r\\n                                در تاریخ ۲۷ شهریور ۱۳۹۹\\r\\r\\n                               \n",
       "\n",
       "        GoodComment  \\\n",
       "2084625  ۴            \n",
       "2264312  ۷            \n",
       "318263   ۰            \n",
       "1437266  ۱            \n",
       "494189   ۰            \n",
       "\n",
       "                                                                                                   ItemURL  \\\n",
       "2084625  /product/dkp-2264825/ساعت-هوشمند-مودیو-مدل-mw01                                                     \n",
       "2264312  /product/dkp-427426/ساعت-هوشمند-میدسان-مدل-a1                                                       \n",
       "318263   /product/dkp-2123004/محافظ-صفحه-نمایش-5d-هورس-مدل-fag-مناسب-برای-گوشی-موبایل-شیائومی-redmi-note-8   \n",
       "1437266  /product/dkp-973926/مچ-بند-هوشمند-شیائومی-مدل-mi-band-3-new-package-2019                            \n",
       "494189   /product/dkp-112285/ریموت-کنترل-بی-سیم-دوربین-نیکون-مدل-ml-l3                                       \n",
       "\n",
       "         NegetiveFeedback  \\\n",
       "2084625  0                  \n",
       "2264312  1                  \n",
       "318263   1                  \n",
       "1437266  0                  \n",
       "494189   0                  \n",
       "\n",
       "                                                                                               Person  \\\n",
       "2084625  \\r\\n                                مجید ایزدی\\r\\n                                             \n",
       "2264312  \\r\\n                                سید محمد علی مؤذن\\r\\n                                      \n",
       "318263   \\r\\r\\n                                Amir Hossein  jafari\\r\\r\\n                               \n",
       "1437266  \\r\\n                                عرفان صالحیزاده\\r\\n                                        \n",
       "494189   \\r\\r\\n                                سعیده مشهور\\r\\r\\n                                        \n",
       "\n",
       "         PositiveFeedback                       SubCatName        SubName  \\\n",
       "2084625  1                 ساعت هوشمند                      کالای دیجیتال   \n",
       "2264312  0                 ساعت هوشمند                      کالای دیجیتال   \n",
       "318263   0                 لوازم جانبی گوشی موبایل          کالای دیجیتال   \n",
       "1437266  1                 ساعت هوشمند                      کالای دیجیتال   \n",
       "494189   1                 لوازم جانبی عکاسی و فیلم برداری  کالای دیجیتال   \n",
       "\n",
       "         Unnamed: 0.1  Unnamed: 0.1.1  len  Label  \n",
       "2084625  821.0         821.0           4    0      \n",
       "2264312  1146.0        1146.0          23   1      \n",
       "318263   3301.0       NaN              35   1      \n",
       "1437266  379.0         379.0           8    0      \n",
       "494189   4793.0       NaN              5    0      "
      ]
     },
     "execution_count": 9,
     "metadata": {},
     "output_type": "execute_result"
    }
   ],
   "source": [
    "df['Label'] = 0\n",
    "df.loc[df['NegetiveFeedback']==1,'Label'] = 1\n",
    "df.head()"
   ]
  },
  {
   "cell_type": "code",
   "execution_count": 10,
   "metadata": {},
   "outputs": [
    {
     "data": {
      "text/plain": [
       "0    1749055\n",
       "1    308112 \n",
       "Name: Label, dtype: int64"
      ]
     },
     "execution_count": 10,
     "metadata": {},
     "output_type": "execute_result"
    }
   ],
   "source": [
    "df['Label'].value_counts()"
   ]
  },
  {
   "cell_type": "code",
   "execution_count": 11,
   "metadata": {},
   "outputs": [],
   "source": [
    "# df = df[df['len']>=10]"
   ]
  },
  {
   "cell_type": "code",
   "execution_count": 12,
   "metadata": {},
   "outputs": [],
   "source": [
    "prep = preprocess()\n",
    "df['Comment'] = df['Comment'].apply(lambda x: prep.clean(x))"
   ]
  },
  {
   "cell_type": "code",
   "execution_count": 13,
   "metadata": {},
   "outputs": [],
   "source": [
    "X = df['Comment'].values\n",
    "Y = df['Label'].values"
   ]
  },
  {
   "cell_type": "code",
   "execution_count": 14,
   "metadata": {},
   "outputs": [],
   "source": [
    "embed_num_dims = 100\n",
    "max_seq_len = 400\n",
    "EMB_SIZE = 100\n",
    "MAX_LEN = 1000\n",
    "seed = 2020\n",
    "random.seed(seed)\n",
    "skf = StratifiedKFold(n_splits=5)\n",
    "batch_size = 2048\n",
    "epoches = 7"
   ]
  },
  {
   "cell_type": "code",
   "execution_count": 15,
   "metadata": {},
   "outputs": [],
   "source": [
    "tokenizer = Tokenizer(num_words=2000000,filters='!\"#$%&()*+,-./;<=>?@][\\\\]^{|}~\\t\\n')\n",
    "tokenizer.fit_on_texts(X)\n",
    "index_of_words = tokenizer.word_index"
   ]
  },
  {
   "cell_type": "code",
   "execution_count": 16,
   "metadata": {},
   "outputs": [],
   "source": [
    "def get_coefs(word,*arr):\n",
    "    return word,np.asarray(arr,dtype='float32')\n",
    "def build_embed_matrix(embed_path,word_index):\n",
    "    EMB_SIZE =100\n",
    "    embed_index = dict(get_coefs(*o.strip().split(\" \")) for o in open(embed_path, encoding='utf-8'))\n",
    "    embed_matrix = np.zeros((len(word_index)+1,EMB_SIZE))\n",
    "    \n",
    "    for word , i in word_index.items():\n",
    "        embed_vector = embed_index.get(word)\n",
    "        if embed_vector is not None:\n",
    "            embed_matrix[i]=embed_vector\n",
    "    del embed_index\n",
    "    gc.collect()\n",
    "    return embed_matrix"
   ]
  },
  {
   "cell_type": "code",
   "execution_count": 17,
   "metadata": {},
   "outputs": [],
   "source": [
    "#embed_matrix_fast = np.concatenate()\n",
    "embed_path = 'NewDigi.vec'\n",
    "embed_matrix_fasts = build_embed_matrix(embed_path,index_of_words)"
   ]
  },
  {
   "cell_type": "code",
   "execution_count": 18,
   "metadata": {},
   "outputs": [],
   "source": [
    "def Evaluation(Ytest, pred_class, pred_proba, fold):\n",
    "    \n",
    "    auc = roc_auc_score(Ytest,pred_proba)\n",
    "    fpr, tpr, threshold = roc_curve(Ytest, pred_proba)\n",
    "    \n",
    "    plt.title('Receiver Operating Characteristic')\n",
    "    plt.plot(fpr, tpr, 'b', label='AUC = %0.2f' % auc)\n",
    "    plt.ylabel('True Positive Rate')\n",
    "    plt.xlabel('False Positive Rate')\n",
    "    plt.savefig('pseudolabeled_cleaned_auc'+str(fold)+'.png')\n",
    "    plt.show()\n",
    "    print('AUC:', auc)\n",
    "    print('f1_score:', f1_score(Ytest,pred_class))\n",
    "    print('Confusion Matrix:\\n', confusion_matrix(Ytest,pred_class))"
   ]
  },
  {
   "cell_type": "code",
   "execution_count": 20,
   "metadata": {},
   "outputs": [
    {
     "name": "stdout",
     "output_type": "stream",
     "text": [
      "Model: \"sequential_2\"\n",
      "_________________________________________________________________\n",
      "Layer (type)                 Output Shape              Param #   \n",
      "=================================================================\n",
      "embedding_1 (Embedding)      (None, 400, 100)          11147700  \n",
      "_________________________________________________________________\n",
      "dropout_4 (Dropout)          (None, 400, 100)          0         \n",
      "_________________________________________________________________\n",
      "bidirectional_1 (Bidirection (None, 64)                34048     \n",
      "_________________________________________________________________\n",
      "dropout_5 (Dropout)          (None, 64)                0         \n",
      "_________________________________________________________________\n",
      "dense_3 (Dense)              (None, 64)                4160      \n",
      "_________________________________________________________________\n",
      "dropout_6 (Dropout)          (None, 64)                0         \n",
      "_________________________________________________________________\n",
      "dense_4 (Dense)              (None, 16)                1040      \n",
      "_________________________________________________________________\n",
      "dropout_7 (Dropout)          (None, 16)                0         \n",
      "_________________________________________________________________\n",
      "dense_5 (Dense)              (None, 1)                 17        \n",
      "=================================================================\n",
      "Total params: 11,186,965\n",
      "Trainable params: 11,186,965\n",
      "Non-trainable params: 0\n",
      "_________________________________________________________________\n",
      "None\n"
     ]
    }
   ],
   "source": [
    "model = Sequential()\n",
    "model.add(Embedding(len(index_of_words)+1, 100, input_length=max_seq_len, weights=[embed_matrix_fasts]))\n",
    "model.add(Dropout(0.5))\n",
    "model.add(Bidirectional(LSTM(32)))\n",
    "model.add(Dropout(0.5))\n",
    "model.add(Dense(64,activation='relu'))\n",
    "model.add(Dropout(0.5))\n",
    "model.add(Dense(16,activation='relu'))\n",
    "model.add(Dropout(0.5))\n",
    "model.add(Dense(1,activation='sigmoid'))\n",
    "model.compile(loss='binary_crossentropy',optimizer='adam',metrics=['accuracy'])\n",
    "print(model.summary())"
   ]
  },
  {
   "cell_type": "code",
   "execution_count": 21,
   "metadata": {},
   "outputs": [
    {
     "name": "stdout",
     "output_type": "stream",
     "text": [
      "Model: \"sequential_3\"\n",
      "_________________________________________________________________\n",
      "Layer (type)                 Output Shape              Param #   \n",
      "=================================================================\n",
      "embedding_2 (Embedding)      (None, 400, 100)          11147700  \n",
      "_________________________________________________________________\n",
      "dropout_8 (Dropout)          (None, 400, 100)          0         \n",
      "_________________________________________________________________\n",
      "conv1d (Conv1D)              (None, 400, 128)          38528     \n",
      "_________________________________________________________________\n",
      "global_max_pooling1d (Global (None, 128)               0         \n",
      "_________________________________________________________________\n",
      "dense_6 (Dense)              (None, 64)                8256      \n",
      "_________________________________________________________________\n",
      "dropout_9 (Dropout)          (None, 64)                0         \n",
      "_________________________________________________________________\n",
      "dense_7 (Dense)              (None, 16)                1040      \n",
      "_________________________________________________________________\n",
      "dropout_10 (Dropout)         (None, 16)                0         \n",
      "_________________________________________________________________\n",
      "dense_8 (Dense)              (None, 1)                 17        \n",
      "=================================================================\n",
      "Total params: 11,195,541\n",
      "Trainable params: 11,195,541\n",
      "Non-trainable params: 0\n",
      "_________________________________________________________________\n",
      "None\n"
     ]
    }
   ],
   "source": [
    "model = Sequential()\n",
    "model.add(Embedding(len(index_of_words)+1, 100, input_length=max_seq_len, weights=[embed_matrix_fasts]))\n",
    "model.add(Dropout(0.5))\n",
    "model.add(Conv1D(128,kernel_size=3,padding='same',activation='relu',strides=1))\n",
    "model.add(GlobalMaxPooling1D())\n",
    "model.add(Dense(64,activation='relu'))\n",
    "model.add(Dropout(0.5))\n",
    "model.add(Dense(16,activation='relu'))\n",
    "model.add(Dropout(0.5))\n",
    "model.add(Dense(1,activation='sigmoid'))\n",
    "model.compile(loss='binary_crossentropy',optimizer='adam',metrics=['accuracy'])\n",
    "print(model.summary())"
   ]
  },
  {
   "cell_type": "markdown",
   "metadata": {},
   "source": [
    "# Bidirectional LSTM"
   ]
  },
  {
   "cell_type": "code",
   "execution_count": 17,
   "metadata": {},
   "outputs": [],
   "source": [
    "def create_model():\n",
    "    model = Sequential()\n",
    "    model.add(Embedding(len(index_of_words)+1, 100, input_length=max_seq_len, weights=[embed_matrix_fasts]))\n",
    "    model.add(Dropout(0.5))\n",
    "    model.add(Bidirectional(LSTM(32)))\n",
    "    model.add(Dropout(0.5))\n",
    "    model.add(Dense(64,activation='relu'))\n",
    "    model.add(Dropout(0.5))\n",
    "    model.add(Dense(16,activation='relu'))\n",
    "    model.add(Dropout(0.5))\n",
    "    model.add(Dense(1,activation='sigmoid'))\n",
    "    model.compile(loss='binary_crossentropy',optimizer='adam',metrics=['accuracy'])\n",
    "    return model"
   ]
  },
  {
   "cell_type": "code",
   "execution_count": 28,
   "metadata": {},
   "outputs": [
    {
     "name": "stdout",
     "output_type": "stream",
     "text": [
      "#Fold: 1\n",
      "Oversampling ...\n",
      "Pad Sequencing ...\n",
      "Modeling ...\n",
      "Epoch 1/7\n",
      "924/924 [==============================] - 255s 276ms/step - loss: 0.2283 - accuracy: 0.9129 - val_loss: 0.0993 - val_accuracy: 0.9648\n",
      "Epoch 2/7\n",
      "924/924 [==============================] - 273s 295ms/step - loss: 0.1415 - accuracy: 0.9525 - val_loss: 0.0857 - val_accuracy: 0.9703\n",
      "Epoch 3/7\n",
      "924/924 [==============================] - 270s 292ms/step - loss: 0.1203 - accuracy: 0.9609 - val_loss: 0.0774 - val_accuracy: 0.9734\n",
      "Epoch 4/7\n",
      "924/924 [==============================] - 386s 417ms/step - loss: 0.1085 - accuracy: 0.9649 - val_loss: 0.0747 - val_accuracy: 0.9743\n",
      "Epoch 5/7\n",
      "924/924 [==============================] - 270s 293ms/step - loss: 0.1012 - accuracy: 0.9675 - val_loss: 0.0716 - val_accuracy: 0.9756\n",
      "Epoch 6/7\n",
      "924/924 [==============================] - 268s 290ms/step - loss: 0.0949 - accuracy: 0.9695 - val_loss: 0.0702 - val_accuracy: 0.9755\n",
      "Epoch 7/7\n",
      "924/924 [==============================] - 260s 281ms/step - loss: 0.0904 - accuracy: 0.9711 - val_loss: 0.0687 - val_accuracy: 0.9763\n",
      "Evaluating ...\n",
      "WARNING:tensorflow:From <ipython-input-28-4162ca542d11>:24: Sequential.predict_classes (from tensorflow.python.keras.engine.sequential) is deprecated and will be removed after 2021-01-01.\n",
      "Instructions for updating:\n",
      "Please use instead:* `np.argmax(model.predict(x), axis=-1)`,   if your model does multi-class classification   (e.g. if it uses a `softmax` last-layer activation).* `(model.predict(x) > 0.5).astype(\"int32\")`,   if your model does binary classification   (e.g. if it uses a `sigmoid` last-layer activation).\n"
     ]
    },
    {
     "data": {
      "image/png": "[encoded data removed]",
      "text/plain": [
       "<Figure size 432x288 with 1 Axes>"
      ]
     },
     "metadata": {},
     "output_type": "display_data"
    },
    {
     "name": "stdout",
     "output_type": "stream",
     "text": [
      "AUC: 0.993492704981733\n",
      "f1_score: 0.9224298991119627\n",
      "Confusion Matrix:\n",
      " [[343664   6147]\n",
      " [  3610  58013]]\n",
      "#Fold: 2\n",
      "Oversampling ...\n",
      "Pad Sequencing ...\n",
      "Modeling ...\n",
      "Epoch 1/7\n",
      "924/924 [==============================] - 258s 279ms/step - loss: 0.2311 - accuracy: 0.9104 - val_loss: 0.0964 - val_accuracy: 0.9666\n",
      "Epoch 2/7\n",
      "924/924 [==============================] - 257s 279ms/step - loss: 0.1420 - accuracy: 0.9525 - val_loss: 0.0815 - val_accuracy: 0.9722\n",
      "Epoch 3/7\n",
      "924/924 [==============================] - 256s 277ms/step - loss: 0.1205 - accuracy: 0.9606 - val_loss: 0.0905 - val_accuracy: 0.9723\n",
      "Epoch 4/7\n",
      "924/924 [==============================] - 255s 276ms/step - loss: 0.1091 - accuracy: 0.9648 - val_loss: 0.0699 - val_accuracy: 0.9768\n",
      "Epoch 5/7\n",
      "924/924 [==============================] - 256s 277ms/step - loss: 0.1015 - accuracy: 0.9674 - val_loss: 0.0688 - val_accuracy: 0.9774\n",
      "Epoch 6/7\n",
      "924/924 [==============================] - 255s 276ms/step - loss: 0.0955 - accuracy: 0.9694 - val_loss: 0.0691 - val_accuracy: 0.9773\n",
      "Epoch 7/7\n",
      "924/924 [==============================] - 256s 277ms/step - loss: 0.0911 - accuracy: 0.9708 - val_loss: 0.0705 - val_accuracy: 0.9769\n",
      "Evaluating ...\n"
     ]
    },
    {
     "data": {
      "image/png": "[encoded data removed]",
      "text/plain": [
       "<Figure size 432x288 with 1 Axes>"
      ]
     },
     "metadata": {},
     "output_type": "display_data"
    },
    {
     "name": "stdout",
     "output_type": "stream",
     "text": [
      "AUC: 0.9937177000768366\n",
      "f1_score: 0.9244054630543441\n",
      "Confusion Matrix:\n",
      " [[343863   5948]\n",
      " [  3550  58073]]\n",
      "#Fold: 3\n",
      "Oversampling ...\n",
      "Pad Sequencing ...\n",
      "Modeling ...\n",
      "Epoch 1/7\n",
      "924/924 [==============================] - 256s 277ms/step - loss: 0.2494 - accuracy: 0.9046 - val_loss: 0.1148 - val_accuracy: 0.9588\n",
      "Epoch 2/7\n",
      "924/924 [==============================] - 255s 276ms/step - loss: 0.1542 - accuracy: 0.9486 - val_loss: 0.0923 - val_accuracy: 0.9683\n",
      "Epoch 3/7\n",
      "924/924 [==============================] - 256s 277ms/step - loss: 0.1295 - accuracy: 0.9581 - val_loss: 0.0822 - val_accuracy: 0.9723\n",
      "Epoch 4/7\n",
      "924/924 [==============================] - 255s 276ms/step - loss: 0.1161 - accuracy: 0.9627 - val_loss: 0.0807 - val_accuracy: 0.9719\n",
      "Epoch 5/7\n",
      "924/924 [==============================] - 255s 276ms/step - loss: 0.1061 - accuracy: 0.9659 - val_loss: 0.0765 - val_accuracy: 0.9748\n",
      "Epoch 6/7\n",
      "924/924 [==============================] - 255s 276ms/step - loss: 0.0997 - accuracy: 0.9682 - val_loss: 0.0766 - val_accuracy: 0.9739\n",
      "Epoch 7/7\n",
      "924/924 [==============================] - 255s 276ms/step - loss: 0.0949 - accuracy: 0.9697 - val_loss: 0.0710 - val_accuracy: 0.9768\n",
      "Evaluating ...\n"
     ]
    },
    {
     "data": {
      "image/png": "[encoded data removed]",
      "text/plain": [
       "<Figure size 432x288 with 1 Axes>"
      ]
     },
     "metadata": {},
     "output_type": "display_data"
    },
    {
     "name": "stdout",
     "output_type": "stream",
     "text": [
      "AUC: 0.9930683829996045\n",
      "f1_score: 0.9238274700180452\n",
      "Confusion Matrix:\n",
      " [[344042   5769]\n",
      " [  3771  57851]]\n",
      "#Fold: 4\n",
      "Oversampling ...\n",
      "Pad Sequencing ...\n",
      "Modeling ...\n",
      "Epoch 1/7\n",
      "924/924 [==============================] - 255s 276ms/step - loss: 0.2313 - accuracy: 0.9122 - val_loss: 0.1035 - val_accuracy: 0.9646\n",
      "Epoch 2/7\n",
      "924/924 [==============================] - 254s 275ms/step - loss: 0.1412 - accuracy: 0.9538 - val_loss: 0.0867 - val_accuracy: 0.9708\n",
      "Epoch 3/7\n",
      "924/924 [==============================] - 254s 275ms/step - loss: 0.1196 - accuracy: 0.9617 - val_loss: 0.0811 - val_accuracy: 0.9722\n",
      "Epoch 4/7\n",
      "924/924 [==============================] - 255s 276ms/step - loss: 0.1079 - accuracy: 0.9655 - val_loss: 0.0725 - val_accuracy: 0.9758\n",
      "Epoch 5/7\n",
      "924/924 [==============================] - 255s 276ms/step - loss: 0.1008 - accuracy: 0.9680 - val_loss: 0.0716 - val_accuracy: 0.9758\n",
      "Epoch 6/7\n",
      "924/924 [==============================] - 255s 276ms/step - loss: 0.0946 - accuracy: 0.9700 - val_loss: 0.0705 - val_accuracy: 0.9767\n",
      "Epoch 7/7\n",
      "924/924 [==============================] - 256s 277ms/step - loss: 0.0898 - accuracy: 0.9716 - val_loss: 0.0725 - val_accuracy: 0.9760\n",
      "Evaluating ...\n"
     ]
    },
    {
     "data": {
      "image/png": "[encoded data removed]",
      "text/plain": [
       "<Figure size 432x288 with 1 Axes>"
      ]
     },
     "metadata": {},
     "output_type": "display_data"
    },
    {
     "name": "stdout",
     "output_type": "stream",
     "text": [
      "AUC: 0.99306206117913\n",
      "f1_score: 0.9216993018630193\n",
      "Confusion Matrix:\n",
      " [[343396   6415]\n",
      " [  3466  58156]]\n",
      "#Fold: 5\n",
      "Oversampling ...\n",
      "Pad Sequencing ...\n",
      "Modeling ...\n",
      "Epoch 1/7\n",
      "924/924 [==============================] - 256s 277ms/step - loss: 0.2271 - accuracy: 0.9120 - val_loss: 0.1000 - val_accuracy: 0.9654\n",
      "Epoch 2/7\n",
      "924/924 [==============================] - 255s 276ms/step - loss: 0.1401 - accuracy: 0.9517 - val_loss: 0.0805 - val_accuracy: 0.9728\n",
      "Epoch 3/7\n",
      "924/924 [==============================] - 254s 275ms/step - loss: 0.1193 - accuracy: 0.9594 - val_loss: 0.0780 - val_accuracy: 0.9734\n",
      "Epoch 4/7\n",
      "924/924 [==============================] - 254s 275ms/step - loss: 0.1080 - accuracy: 0.9635 - val_loss: 0.0713 - val_accuracy: 0.9751\n",
      "Epoch 5/7\n",
      "924/924 [==============================] - 254s 275ms/step - loss: 0.1006 - accuracy: 0.9661 - val_loss: 0.0721 - val_accuracy: 0.9757\n",
      "Epoch 6/7\n",
      "924/924 [==============================] - 255s 275ms/step - loss: 0.0945 - accuracy: 0.9708 - val_loss: 0.0681 - val_accuracy: 0.9766\n",
      "Epoch 7/7\n",
      "924/924 [==============================] - 255s 275ms/step - loss: 0.0905 - accuracy: 0.9722 - val_loss: 0.0677 - val_accuracy: 0.9766\n",
      "Evaluating ...\n"
     ]
    },
    {
     "data": {
      "image/png": "[encoded data removed]",
      "text/plain": [
       "<Figure size 432x288 with 1 Axes>"
      ]
     },
     "metadata": {},
     "output_type": "display_data"
    },
    {
     "name": "stdout",
     "output_type": "stream",
     "text": [
      "AUC: 0.9934980711623715\n",
      "f1_score: 0.9232864059115812\n",
      "Confusion Matrix:\n",
      " [[343824   5987]\n",
      " [  3647  57975]]\n"
     ]
    }
   ],
   "source": [
    "for fold, (train_index, test_index) in enumerate(skf.split(X,Y)):\n",
    "    \n",
    "    print('#Fold:', fold+1)\n",
    "    \n",
    "    Xtrain, Xtest = X[train_index], X[test_index]\n",
    "    Ytrain, Ytest = Y[train_index], Y[test_index]\n",
    "    \n",
    "    print('Oversampling ...')\n",
    "    Xtrain = np.append(Xtrain, Xtrain[Ytrain==1])\n",
    "    Ytrain = np.append(Ytrain, Ytrain[Ytrain==1])\n",
    "    \n",
    "    print('Pad Sequencing ...')\n",
    "    sequence_train = tokenizer.texts_to_sequences(Xtrain)\n",
    "    sequence_test = tokenizer.texts_to_sequences(Xtest)\n",
    "    padata_train = pad_sequences(sequence_train,maxlen=max_seq_len, padding='post')\n",
    "    padata_test = pad_sequences(sequence_test,maxlen=max_seq_len, padding='post')\n",
    "    \n",
    "    print('Modeling ...')\n",
    "    model = create_model()\n",
    "    history= model.fit(padata_train, Ytrain, validation_data=(padata_test,Ytest),epochs=epoches, batch_size=batch_size,\n",
    "                       verbose=1, shuffle=True)\n",
    "    \n",
    "    print('Evaluating ...')\n",
    "    pred_class = model.predict_classes(padata_test)\n",
    "    pred_proba = model.predict(padata_test)\n",
    "    Evaluation(Ytest, pred_class, pred_proba, fold)"
   ]
  },
  {
   "cell_type": "markdown",
   "metadata": {},
   "source": [
    "# TFIDF Transformation with Naive Bayes modeling"
   ]
  },
  {
   "cell_type": "code",
   "execution_count": 30,
   "metadata": {},
   "outputs": [
    {
     "name": "stdout",
     "output_type": "stream",
     "text": [
      "#Fold: 1\n",
      "Oversampling ...\n",
      "Evaluating ...\n"
     ]
    },
    {
     "data": {
      "image/png": "[encoded data removed]",
      "text/plain": [
       "<Figure size 432x288 with 1 Axes>"
      ]
     },
     "metadata": {},
     "output_type": "display_data"
    },
    {
     "name": "stdout",
     "output_type": "stream",
     "text": [
      "AUC: 0.9877878640555044\n",
      "f1_score: 0.8856267035482331\n",
      "Confusion Matrix:\n",
      " [[342544   7267]\n",
      " [  6874  54749]]\n",
      "#Fold: 2\n",
      "Oversampling ...\n",
      "Evaluating ...\n"
     ]
    },
    {
     "data": {
      "image/png": "[encoded data removed]",
      "text/plain": [
       "<Figure size 432x288 with 1 Axes>"
      ]
     },
     "metadata": {},
     "output_type": "display_data"
    },
    {
     "name": "stdout",
     "output_type": "stream",
     "text": [
      "AUC: 0.9881706995361339\n",
      "f1_score: 0.8856879428035328\n",
      "Confusion Matrix:\n",
      " [[342545   7266]\n",
      " [  6868  54755]]\n",
      "#Fold: 3\n",
      "Oversampling ...\n",
      "Evaluating ...\n"
     ]
    },
    {
     "data": {
      "image/png": "[encoded data removed]",
      "text/plain": [
       "<Figure size 432x288 with 1 Axes>"
      ]
     },
     "metadata": {},
     "output_type": "display_data"
    },
    {
     "name": "stdout",
     "output_type": "stream",
     "text": [
      "AUC: 0.9878005815532251\n",
      "f1_score: 0.8860994961299872\n",
      "Confusion Matrix:\n",
      " [[342570   7241]\n",
      " [  6842  54780]]\n",
      "#Fold: 4\n",
      "Oversampling ...\n",
      "Evaluating ...\n"
     ]
    },
    {
     "data": {
      "image/png": "[encoded data removed]",
      "text/plain": [
       "<Figure size 432x288 with 1 Axes>"
      ]
     },
     "metadata": {},
     "output_type": "display_data"
    },
    {
     "name": "stdout",
     "output_type": "stream",
     "text": [
      "AUC: 0.9880542211173834\n",
      "f1_score: 0.8863218735074838\n",
      "Confusion Matrix:\n",
      " [[342645   7166]\n",
      " [  6877  54745]]\n",
      "#Fold: 5\n",
      "Oversampling ...\n",
      "Evaluating ...\n"
     ]
    },
    {
     "data": {
      "image/png": "[encoded data removed]",
      "text/plain": [
       "<Figure size 432x288 with 1 Axes>"
      ]
     },
     "metadata": {},
     "output_type": "display_data"
    },
    {
     "name": "stdout",
     "output_type": "stream",
     "text": [
      "AUC: 0.9881143630168959\n",
      "f1_score: 0.8863249387841148\n",
      "Confusion Matrix:\n",
      " [[342756   7055]\n",
      " [  6965  54657]]\n"
     ]
    }
   ],
   "source": [
    "from sklearn.naive_bayes import MultinomialNB\n",
    "from sklearn.svm import LinearSVC\n",
    "from sklearn.linear_model import LogisticRegression\n",
    "from sklearn.feature_extraction.text import TfidfVectorizer\n",
    "\n",
    "TFIDF = TfidfVectorizer(ngram_range=(1,3), max_features=100000)\n",
    "TFIDF.fit(X)\n",
    "\n",
    "for fold, (train_index, test_index) in enumerate(skf.split(X,Y)):\n",
    "    \n",
    "    print('#Fold:', fold+1)\n",
    "    \n",
    "    Xtrain, Xtest = X[train_index], X[test_index]\n",
    "    Ytrain, Ytest = Y[train_index], Y[test_index]\n",
    "    \n",
    "    print('Oversampling ...')\n",
    "    Xtrain = np.append(Xtrain, Xtrain[Ytrain==1])\n",
    "    Ytrain = np.append(Ytrain, Ytrain[Ytrain==1])\n",
    "    \n",
    "    Xtrain_tf = TFIDF.transform(Xtrain)\n",
    "    Xtest_tf = TFIDF.transform(Xtest)\n",
    "    \n",
    "    NB = MultinomialNB()\n",
    "    NB.fit(Xtrain_tf, Ytrain)    \n",
    "    \n",
    "    print('Evaluating ...')\n",
    "    pred_class = NB.predict(Xtest_tf)\n",
    "    pred_proba = NB.predict_proba(Xtest_tf)\n",
    "    Evaluation(Ytest, pred_class, pred_proba[:,1], fold)"
   ]
  },
  {
   "cell_type": "markdown",
   "metadata": {},
   "source": [
    "# TFIDF Transformation with Logistic Regression modeling"
   ]
  },
  {
   "cell_type": "code",
   "execution_count": 31,
   "metadata": {},
   "outputs": [
    {
     "name": "stdout",
     "output_type": "stream",
     "text": [
      "#Fold: 1\n",
      "Oversampling ...\n"
     ]
    },
    {
     "name": "stderr",
     "output_type": "stream",
     "text": [
      "C:\\ProgramData\\Anaconda3\\lib\\site-packages\\sklearn\\linear_model\\_logistic.py:764: ConvergenceWarning: lbfgs failed to converge (status=1):\n",
      "STOP: TOTAL NO. of ITERATIONS REACHED LIMIT.\n",
      "\n",
      "Increase the number of iterations (max_iter) or scale the data as shown in:\n",
      "    https://scikit-learn.org/stable/modules/preprocessing.html\n",
      "Please also refer to the documentation for alternative solver options:\n",
      "    https://scikit-learn.org/stable/modules/linear_model.html#logistic-regression\n",
      "  extra_warning_msg=_LOGISTIC_SOLVER_CONVERGENCE_MSG)\n"
     ]
    },
    {
     "name": "stdout",
     "output_type": "stream",
     "text": [
      "Evaluating ...\n"
     ]
    },
    {
     "data": {
      "image/png": "[encoded data removed]",
      "text/plain": [
       "<Figure size 432x288 with 1 Axes>"
      ]
     },
     "metadata": {},
     "output_type": "display_data"
    },
    {
     "name": "stdout",
     "output_type": "stream",
     "text": [
      "AUC: 0.9888129659122776\n",
      "f1_score: 0.8894540522210919\n",
      "Confusion Matrix:\n",
      " [[342659   7152]\n",
      " [  6540  55083]]\n",
      "#Fold: 2\n",
      "Oversampling ...\n"
     ]
    },
    {
     "name": "stderr",
     "output_type": "stream",
     "text": [
      "C:\\ProgramData\\Anaconda3\\lib\\site-packages\\sklearn\\linear_model\\_logistic.py:764: ConvergenceWarning: lbfgs failed to converge (status=1):\n",
      "STOP: TOTAL NO. of ITERATIONS REACHED LIMIT.\n",
      "\n",
      "Increase the number of iterations (max_iter) or scale the data as shown in:\n",
      "    https://scikit-learn.org/stable/modules/preprocessing.html\n",
      "Please also refer to the documentation for alternative solver options:\n",
      "    https://scikit-learn.org/stable/modules/linear_model.html#logistic-regression\n",
      "  extra_warning_msg=_LOGISTIC_SOLVER_CONVERGENCE_MSG)\n"
     ]
    },
    {
     "name": "stdout",
     "output_type": "stream",
     "text": [
      "Evaluating ...\n"
     ]
    },
    {
     "data": {
      "image/png": "[encoded data removed]",
      "text/plain": [
       "<Figure size 432x288 with 1 Axes>"
      ]
     },
     "metadata": {},
     "output_type": "display_data"
    },
    {
     "name": "stdout",
     "output_type": "stream",
     "text": [
      "AUC: 0.989147184330603\n",
      "f1_score: 0.8901987065102422\n",
      "Confusion Matrix:\n",
      " [[342709   7102]\n",
      " [  6497  55126]]\n",
      "#Fold: 3\n",
      "Oversampling ...\n"
     ]
    },
    {
     "name": "stderr",
     "output_type": "stream",
     "text": [
      "C:\\ProgramData\\Anaconda3\\lib\\site-packages\\sklearn\\linear_model\\_logistic.py:764: ConvergenceWarning: lbfgs failed to converge (status=1):\n",
      "STOP: TOTAL NO. of ITERATIONS REACHED LIMIT.\n",
      "\n",
      "Increase the number of iterations (max_iter) or scale the data as shown in:\n",
      "    https://scikit-learn.org/stable/modules/preprocessing.html\n",
      "Please also refer to the documentation for alternative solver options:\n",
      "    https://scikit-learn.org/stable/modules/linear_model.html#logistic-regression\n",
      "  extra_warning_msg=_LOGISTIC_SOLVER_CONVERGENCE_MSG)\n"
     ]
    },
    {
     "name": "stdout",
     "output_type": "stream",
     "text": [
      "Evaluating ...\n"
     ]
    },
    {
     "data": {
      "image/png": "[encoded data removed]",
      "text/plain": [
       "<Figure size 432x288 with 1 Axes>"
      ]
     },
     "metadata": {},
     "output_type": "display_data"
    },
    {
     "name": "stdout",
     "output_type": "stream",
     "text": [
      "AUC: 0.9888128067297264\n",
      "f1_score: 0.8898218870605712\n",
      "Confusion Matrix:\n",
      " [[342683   7128]\n",
      " [  6518  55104]]\n",
      "#Fold: 4\n",
      "Oversampling ...\n"
     ]
    },
    {
     "name": "stderr",
     "output_type": "stream",
     "text": [
      "C:\\ProgramData\\Anaconda3\\lib\\site-packages\\sklearn\\linear_model\\_logistic.py:764: ConvergenceWarning: lbfgs failed to converge (status=1):\n",
      "STOP: TOTAL NO. of ITERATIONS REACHED LIMIT.\n",
      "\n",
      "Increase the number of iterations (max_iter) or scale the data as shown in:\n",
      "    https://scikit-learn.org/stable/modules/preprocessing.html\n",
      "Please also refer to the documentation for alternative solver options:\n",
      "    https://scikit-learn.org/stable/modules/linear_model.html#logistic-regression\n",
      "  extra_warning_msg=_LOGISTIC_SOLVER_CONVERGENCE_MSG)\n"
     ]
    },
    {
     "name": "stdout",
     "output_type": "stream",
     "text": [
      "Evaluating ...\n"
     ]
    },
    {
     "data": {
      "image/png": "[encoded data removed]",
      "text/plain": [
       "<Figure size 432x288 with 1 Axes>"
      ]
     },
     "metadata": {},
     "output_type": "display_data"
    },
    {
     "name": "stdout",
     "output_type": "stream",
     "text": [
      "AUC: 0.9890410706841297\n",
      "f1_score: 0.8895528655528009\n",
      "Confusion Matrix:\n",
      " [[342678   7133]\n",
      " [  6544  55078]]\n",
      "#Fold: 5\n",
      "Oversampling ...\n"
     ]
    },
    {
     "name": "stderr",
     "output_type": "stream",
     "text": [
      "C:\\ProgramData\\Anaconda3\\lib\\site-packages\\sklearn\\linear_model\\_logistic.py:764: ConvergenceWarning: lbfgs failed to converge (status=1):\n",
      "STOP: TOTAL NO. of ITERATIONS REACHED LIMIT.\n",
      "\n",
      "Increase the number of iterations (max_iter) or scale the data as shown in:\n",
      "    https://scikit-learn.org/stable/modules/preprocessing.html\n",
      "Please also refer to the documentation for alternative solver options:\n",
      "    https://scikit-learn.org/stable/modules/linear_model.html#logistic-regression\n",
      "  extra_warning_msg=_LOGISTIC_SOLVER_CONVERGENCE_MSG)\n"
     ]
    },
    {
     "name": "stdout",
     "output_type": "stream",
     "text": [
      "Evaluating ...\n"
     ]
    },
    {
     "data": {
      "image/png": "[encoded data removed]",
      "text/plain": [
       "<Figure size 432x288 with 1 Axes>"
      ]
     },
     "metadata": {},
     "output_type": "display_data"
    },
    {
     "name": "stdout",
     "output_type": "stream",
     "text": [
      "AUC: 0.9881143630168959\n",
      "f1_score: 0.8863249387841148\n",
      "Confusion Matrix:\n",
      " [[342756   7055]\n",
      " [  6965  54657]]\n"
     ]
    }
   ],
   "source": [
    "for fold, (train_index, test_index) in enumerate(skf.split(X,Y)):\n",
    "    \n",
    "    print('#Fold:', fold+1)\n",
    "    \n",
    "    Xtrain, Xtest = X[train_index], X[test_index]\n",
    "    Ytrain, Ytest = Y[train_index], Y[test_index]\n",
    "    \n",
    "    print('Oversampling ...')\n",
    "    Xtrain = np.append(Xtrain, Xtrain[Ytrain==1])\n",
    "    Ytrain = np.append(Ytrain, Ytrain[Ytrain==1])\n",
    "    \n",
    "    Xtrain_tf = TFIDF.transform(Xtrain)\n",
    "    Xtest_tf = TFIDF.transform(Xtest)\n",
    "    \n",
    "    LR = LogisticRegression()\n",
    "    LR.fit(Xtrain_tf, Ytrain)    \n",
    "    \n",
    "    print('Evaluating ...')\n",
    "    pred_class = NB.predict(Xtest_tf)\n",
    "    pred_proba = NB.predict_proba(Xtest_tf)\n",
    "    Evaluation(Ytest, pred_class, pred_proba[:,1], fold)"
   ]
  },
  {
   "cell_type": "code",
   "execution_count": null,
   "metadata": {},
   "outputs": [],
   "source": []
  }
 ],
 "metadata": {
  "kernelspec": {
   "display_name": "Python 3",
   "language": "python",
   "name": "python3"
  },
  "language_info": {
   "codemirror_mode": {
    "name": "ipython",
    "version": 3
   },
   "file_extension": ".py",
   "mimetype": "text/x-python",
   "name": "python",
   "nbconvert_exporter": "python",
   "pygments_lexer": "ipython3",
   "version": "3.6.5"
  }
 },
 "nbformat": 4,
 "nbformat_minor": 2
}
